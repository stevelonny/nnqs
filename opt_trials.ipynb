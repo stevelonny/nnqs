{
 "cells": [
  {
   "cell_type": "code",
   "execution_count": 3,
   "id": "55f61407",
   "metadata": {},
   "outputs": [
    {
     "name": "stderr",
     "output_type": "stream",
     "text": [
      "2025-07-12 17:38:59.932474: E external/local_xla/xla/stream_executor/cuda/cuda_fft.cc:467] Unable to register cuFFT factory: Attempting to register factory for plugin cuFFT when one has already been registered\n",
      "WARNING: All log messages before absl::InitializeLog() is called are written to STDERR\n",
      "E0000 00:00:1752334739.956605  142373 cuda_dnn.cc:8579] Unable to register cuDNN factory: Attempting to register factory for plugin cuDNN when one has already been registered\n",
      "E0000 00:00:1752334739.963536  142373 cuda_blas.cc:1407] Unable to register cuBLAS factory: Attempting to register factory for plugin cuBLAS when one has already been registered\n",
      "W0000 00:00:1752334739.980837  142373 computation_placer.cc:177] computation placer already registered. Please check linkage and avoid linking the same target more than once.\n",
      "W0000 00:00:1752334739.980858  142373 computation_placer.cc:177] computation placer already registered. Please check linkage and avoid linking the same target more than once.\n",
      "W0000 00:00:1752334739.980860  142373 computation_placer.cc:177] computation placer already registered. Please check linkage and avoid linking the same target more than once.\n",
      "W0000 00:00:1752334739.980861  142373 computation_placer.cc:177] computation placer already registered. Please check linkage and avoid linking the same target more than once.\n",
      "2025-07-12 17:38:59.986747: I tensorflow/core/platform/cpu_feature_guard.cc:210] This TensorFlow binary is optimized to use available CPU instructions in performance-critical operations.\n",
      "To enable the following instructions: AVX2 FMA, in other operations, rebuild TensorFlow with the appropriate compiler flags.\n"
     ]
    }
   ],
   "source": [
    "import tensorflow as tf\n",
    "import numpy as np\n",
    "import tensorflow_probability as tfp\n",
    "import nnqs\n",
    "import sampler\n",
    "from hamiltonian import Ising1D, TFIH\n",
    "import optimizer"
   ]
  },
  {
   "cell_type": "code",
   "execution_count": 17,
   "id": "8e1362ee",
   "metadata": {},
   "outputs": [],
   "source": [
    "L = 32\n",
    "n_spins = L * L\n",
    "density = 2\n",
    "n_hidden_spins = int(L * density)"
   ]
  },
  {
   "cell_type": "code",
   "execution_count": 18,
   "id": "93ed7bc4",
   "metadata": {},
   "outputs": [
    {
     "name": "stdout",
     "output_type": "stream",
     "text": [
      "a: [-0.01506302  0.25512347  0.15167573 -0.0459911  -0.02627617  0.00544563\n",
      " -0.00865956 -0.11537693  0.01304029 -0.01154306 -0.08022141  0.01105818\n",
      " -0.15714552 -0.0836898  -0.06504489 -0.0275012   0.04643032 -0.15755136\n",
      " -0.05443667 -0.00642914 -0.10638356 -0.01142374  0.03754674 -0.12223542\n",
      " -0.04557772  0.14382865  0.03181771  0.08257455 -0.01289467 -0.04548758\n",
      " -0.15963565  0.00853289]\n",
      "b: [ 0.03698665 -0.0867383   0.00976002  0.09975226  0.02024543 -0.064565\n",
      " -0.0576254   0.02662872  0.08139922  0.07999495  0.05969615 -0.02344836\n",
      "  0.00759127  0.00991059  0.02002415 -0.09848582  0.08888964  0.07921948\n",
      " -0.12754296 -0.06055625 -0.01736423 -0.03108075 -0.0278421   0.04428222\n",
      " -0.09213497  0.20834208 -0.00784772 -0.04765245  0.04080906  0.19936459\n",
      " -0.00578118 -0.07059161  0.11766986 -0.01216963 -0.03594252 -0.05290636\n",
      "  0.04457038 -0.00385354  0.14933865 -0.12137943 -0.25151017 -0.02935019\n",
      " -0.20558046  0.04488806  0.00672828  0.0066845   0.29320586 -0.04350488\n",
      "  0.00521229  0.16785613  0.1922944  -0.29390708 -0.06609001  0.00327672\n",
      "  0.09368968  0.12856777  0.02396129 -0.0635033  -0.05171078 -0.22695386\n",
      "  0.10072537 -0.01824285 -0.02538435  0.01360832]\n",
      "W: [[-0.12085643  0.1130346   0.0027666  ... -0.21326254 -0.0354019\n",
      "  -0.12893952]\n",
      " [ 0.08056022  0.00153489  0.04520042 ...  0.08374123 -0.07830891\n",
      "  -0.05852216]\n",
      " [ 0.00552606 -0.00302507 -0.03910907 ... -0.17323402  0.14540784\n",
      "   0.20260428]\n",
      " ...\n",
      " [ 0.03003928 -0.05671953 -0.07285365 ...  0.1231321   0.10952266\n",
      "   0.09033909]\n",
      " [ 0.18305293  0.14894006 -0.07098737 ...  0.08521166 -0.05993235\n",
      "   0.20567231]\n",
      " [ 0.20050411  0.08866343 -0.0450642  ... -0.1472858   0.08101647\n",
      "   0.06675266]]\n"
     ]
    }
   ],
   "source": [
    "wave_1 = nnqs.RBM(n_visible=L, n_hidden=n_hidden_spins, std_weights=0.01)\n",
    "print(\"a:\", wave_1.a.numpy())\n",
    "print(\"b:\", wave_1.b.numpy())\n",
    "print(\"W:\", wave_1.W.numpy())\n",
    "m_sampler_1 = sampler.GibbsSampler(n_visible=L, n_hidden=n_hidden_spins, k=5, batch_size=100)\n",
    "#print(\"Initial state:\", m_sampler.current_state)\n",
    "\n",
    "ham = TFIH(L=L, J=1.0, h=0.0)\n",
    "\n",
    "opt_1 = optimizer.StochasticReconfiguration(\n",
    "    wave_function=wave_1,\n",
    "    hamiltonian=ham,\n",
    "    sampler=m_sampler_1,\n",
    "    learning_rate=0.01,\n",
    "    epsilon=0.001,\n",
    ")"
   ]
  },
  {
   "cell_type": "code",
   "execution_count": 19,
   "id": "1efdfe1f",
   "metadata": {},
   "outputs": [
    {
     "name": "stdout",
     "output_type": "stream",
     "text": [
      "(32, 64)\n"
     ]
    }
   ],
   "source": [
    "print(wave_1.W.shape)\n",
    "#opt_1.optimizer = tf.keras.optimizers.Adam(learning_rate=0.001, gradient_accumulation_steps=8)\n"
   ]
  },
  {
   "cell_type": "code",
   "execution_count": 20,
   "id": "6c44a0e0",
   "metadata": {},
   "outputs": [
    {
     "name": "stdout",
     "output_type": "stream",
     "text": [
      "Iteration 0: Energy = -0.360000, Variance = 34.270401\n",
      "Iteration 1: Energy = 0.520000, Variance = 26.769600\n",
      "Iteration 2: Energy = -0.840000, Variance = 35.294399\n",
      "Iteration 3: Energy = 1.200000, Variance = 27.680000\n",
      "Iteration 4: Energy = -0.080000, Variance = 39.673599\n",
      "Iteration 5: Energy = 0.280000, Variance = 30.481600\n",
      "Iteration 6: Energy = -0.560000, Variance = 31.046402\n",
      "Iteration 7: Energy = -0.880000, Variance = 26.745600\n",
      "Iteration 8: Energy = -0.760000, Variance = 36.382401\n",
      "Iteration 9: Energy = -1.560000, Variance = 28.446400\n",
      "Iteration 10: Energy = -2.080000, Variance = 35.353600\n",
      "Iteration 11: Energy = -2.480000, Variance = 32.889599\n",
      "Iteration 12: Energy = -1.600000, Variance = 38.080002\n",
      "Iteration 13: Energy = -2.600000, Variance = 26.039997\n",
      "Iteration 14: Energy = -2.040000, Variance = 30.558399\n",
      "Iteration 15: Energy = -2.120000, Variance = 32.465603\n",
      "Iteration 16: Energy = -2.680000, Variance = 26.257601\n",
      "Iteration 17: Energy = -4.680000, Variance = 30.097603\n",
      "Iteration 18: Energy = -4.480000, Variance = 27.609600\n",
      "Iteration 19: Energy = -4.720000, Variance = 38.201603\n",
      "Iteration 20: Energy = -4.160000, Variance = 34.854401\n",
      "Iteration 21: Energy = -6.480000, Variance = 29.049599\n",
      "Iteration 22: Energy = -6.200000, Variance = 37.559998\n",
      "Iteration 23: Energy = -7.080000, Variance = 41.233597\n",
      "Iteration 24: Energy = -7.080000, Variance = 32.273598\n",
      "Iteration 25: Energy = -8.320000, Variance = 29.657602\n",
      "Iteration 26: Energy = -7.120000, Variance = 39.545601\n",
      "Iteration 27: Energy = -8.480000, Variance = 31.129601\n",
      "Iteration 28: Energy = -8.520000, Variance = 43.729599\n",
      "Iteration 29: Energy = -10.560000, Variance = 27.046402\n",
      "Iteration 30: Energy = -10.640000, Variance = 33.030403\n",
      "Iteration 31: Energy = -11.960000, Variance = 39.838402\n",
      "Iteration 32: Energy = -12.720000, Variance = 32.121601\n",
      "Iteration 33: Energy = -12.680000, Variance = 33.617599\n",
      "Iteration 34: Energy = -14.400000, Variance = 30.400000\n",
      "Iteration 35: Energy = -14.600000, Variance = 27.320000\n",
      "Iteration 36: Energy = -15.960000, Variance = 22.878401\n",
      "Iteration 37: Energy = -16.920000, Variance = 22.673599\n",
      "Iteration 38: Energy = -17.760000, Variance = 28.582403\n",
      "Iteration 39: Energy = -17.719999, Variance = 30.801600\n",
      "Iteration 40: Energy = -17.520000, Variance = 22.009602\n",
      "Iteration 41: Energy = -18.959999, Variance = 27.398401\n",
      "Iteration 42: Energy = -19.680000, Variance = 25.497601\n",
      "Iteration 43: Energy = -20.480000, Variance = 29.529600\n",
      "Iteration 44: Energy = -19.959999, Variance = 23.518400\n",
      "Iteration 45: Energy = -21.040001, Variance = 25.158398\n",
      "Iteration 46: Energy = -21.719999, Variance = 14.801600\n",
      "Iteration 47: Energy = -22.440001, Variance = 17.566399\n",
      "Iteration 48: Energy = -23.120001, Variance = 24.505598\n",
      "Iteration 49: Energy = -22.840000, Variance = 21.214401\n",
      "Iteration 50: Energy = -24.000000, Variance = 15.040000\n",
      "Iteration 51: Energy = -24.959999, Variance = 13.798401\n",
      "Iteration 52: Energy = -25.000000, Variance = 11.640000\n",
      "Iteration 53: Energy = -25.719999, Variance = 11.281599\n",
      "Iteration 54: Energy = -26.040001, Variance = 11.678401\n",
      "Iteration 55: Energy = -26.360001, Variance = 10.910400\n",
      "Iteration 56: Energy = -26.799999, Variance = 12.960001\n",
      "Iteration 57: Energy = -27.719999, Variance = 11.281599\n",
      "Iteration 58: Energy = -26.680000, Variance = 12.497601\n",
      "Iteration 59: Energy = -27.879999, Variance = 11.665601\n",
      "Iteration 60: Energy = -28.280001, Variance = 9.361600\n",
      "Iteration 61: Energy = -28.680000, Variance = 8.657600\n",
      "Iteration 62: Energy = -29.040001, Variance = 8.518400\n",
      "Iteration 63: Energy = -29.320000, Variance = 8.337600\n",
      "Iteration 64: Energy = -28.680000, Variance = 8.017600\n",
      "Iteration 65: Energy = -29.320000, Variance = 8.017600\n",
      "Iteration 66: Energy = -30.400000, Variance = 5.120000\n",
      "Iteration 67: Energy = -29.719999, Variance = 7.121600\n",
      "Iteration 68: Energy = -30.040001, Variance = 5.598400\n",
      "Iteration 69: Energy = -29.799999, Variance = 5.880000\n",
      "Iteration 70: Energy = -30.639999, Variance = 5.190400\n",
      "Iteration 71: Energy = -30.760000, Variance = 4.062400\n",
      "Iteration 72: Energy = -30.719999, Variance = 4.761600\n",
      "Iteration 73: Energy = -30.959999, Variance = 3.398400\n",
      "Iteration 74: Energy = -30.959999, Variance = 3.398400\n",
      "Iteration 75: Energy = -30.879999, Variance = 4.185600\n",
      "Iteration 76: Energy = -31.360001, Variance = 2.150400\n",
      "Iteration 77: Energy = -31.360001, Variance = 3.110400\n",
      "Iteration 78: Energy = -31.520000, Variance = 2.009600\n",
      "Iteration 79: Energy = -31.320000, Variance = 2.577600\n",
      "Iteration 80: Energy = -31.360001, Variance = 2.470400\n",
      "Iteration 81: Energy = -31.639999, Variance = 1.310400\n",
      "Iteration 82: Energy = -31.639999, Variance = 1.310400\n",
      "Iteration 83: Energy = -31.559999, Variance = 1.566400\n",
      "Iteration 84: Energy = -31.600000, Variance = 1.440000\n",
      "Iteration 85: Energy = -31.639999, Variance = 1.310400\n",
      "Iteration 86: Energy = -31.879999, Variance = 0.465600\n",
      "Iteration 87: Energy = -31.639999, Variance = 1.630400\n",
      "Iteration 88: Energy = -31.559999, Variance = 1.886400\n",
      "Iteration 89: Energy = -31.719999, Variance = 1.041600\n",
      "Iteration 90: Energy = -31.719999, Variance = 1.041600\n",
      "Iteration 91: Energy = -31.799999, Variance = 0.760000\n",
      "Iteration 92: Energy = -31.719999, Variance = 1.041600\n",
      "Iteration 93: Energy = -31.719999, Variance = 1.041600\n",
      "Iteration 94: Energy = -31.760000, Variance = 0.902400\n",
      "Iteration 95: Energy = -31.799999, Variance = 0.760000\n",
      "Iteration 96: Energy = -31.840000, Variance = 0.614400\n",
      "Iteration 97: Energy = -31.840000, Variance = 0.614400\n",
      "Iteration 98: Energy = -31.760000, Variance = 0.902400\n",
      "Iteration 99: Energy = -31.879999, Variance = 0.465600\n",
      "Iteration 100: Energy = -32.000000, Variance = 0.000000\n",
      "Iteration 101: Energy = -31.799999, Variance = 0.760000\n",
      "Iteration 102: Energy = -31.719999, Variance = 1.361600\n",
      "Iteration 103: Energy = -31.879999, Variance = 0.465600\n",
      "Iteration 104: Energy = -31.959999, Variance = 0.158400\n",
      "Iteration 105: Energy = -31.879999, Variance = 0.465600\n",
      "Iteration 106: Energy = -31.879999, Variance = 0.465600\n",
      "Iteration 107: Energy = -31.920000, Variance = 0.313600\n",
      "Iteration 108: Energy = -31.959999, Variance = 0.158400\n",
      "Iteration 109: Energy = -31.879999, Variance = 0.465600\n",
      "Iteration 110: Energy = -32.000000, Variance = 0.000000\n",
      "Iteration 111: Energy = -31.920000, Variance = 0.313600\n",
      "Iteration 112: Energy = -31.920000, Variance = 0.313600\n",
      "Iteration 113: Energy = -31.959999, Variance = 0.158400\n",
      "Iteration 114: Energy = -31.879999, Variance = 0.465600\n",
      "Iteration 115: Energy = -31.920000, Variance = 0.313600\n",
      "Iteration 116: Energy = -31.920000, Variance = 0.313600\n",
      "Iteration 117: Energy = -32.000000, Variance = 0.000000\n",
      "Iteration 118: Energy = -31.879999, Variance = 0.465600\n",
      "Iteration 119: Energy = -31.879999, Variance = 0.465600\n",
      "Iteration 120: Energy = -31.920000, Variance = 0.313600\n",
      "Iteration 121: Energy = -31.959999, Variance = 0.158400\n",
      "Iteration 122: Energy = -31.959999, Variance = 0.158400\n",
      "Iteration 123: Energy = -32.000000, Variance = 0.000000\n",
      "Iteration 124: Energy = -31.920000, Variance = 0.313600\n",
      "Iteration 125: Energy = -31.959999, Variance = 0.158400\n",
      "Iteration 126: Energy = -31.920000, Variance = 0.633600\n",
      "Iteration 127: Energy = -32.000000, Variance = 0.000000\n",
      "Iteration 128: Energy = -31.959999, Variance = 0.158400\n",
      "Iteration 129: Energy = -32.000000, Variance = 0.000000\n",
      "Iteration 130: Energy = -31.840000, Variance = 0.614400\n",
      "Iteration 131: Energy = -32.000000, Variance = 0.000000\n",
      "Iteration 132: Energy = -31.959999, Variance = 0.158400\n",
      "Iteration 133: Energy = -31.840000, Variance = 0.934400\n",
      "Iteration 134: Energy = -31.920000, Variance = 0.313600\n",
      "Iteration 135: Energy = -31.920000, Variance = 0.313600\n",
      "Iteration 136: Energy = -31.879999, Variance = 0.465600\n",
      "Iteration 137: Energy = -31.799999, Variance = 0.760000\n",
      "Iteration 138: Energy = -32.000000, Variance = 0.000000\n",
      "Iteration 139: Energy = -31.879999, Variance = 0.465600\n",
      "Iteration 140: Energy = -31.879999, Variance = 0.465600\n",
      "Iteration 141: Energy = -32.000000, Variance = 0.000000\n",
      "Iteration 142: Energy = -32.000000, Variance = 0.000000\n",
      "Iteration 143: Energy = -31.879999, Variance = 0.465600\n",
      "Iteration 144: Energy = -31.959999, Variance = 0.158400\n",
      "Iteration 145: Energy = -32.000000, Variance = 0.000000\n",
      "Iteration 146: Energy = -32.000000, Variance = 0.000000\n",
      "Iteration 147: Energy = -32.000000, Variance = 0.000000\n",
      "Iteration 148: Energy = -31.920000, Variance = 0.313600\n",
      "Iteration 149: Energy = -31.879999, Variance = 0.465600\n",
      "Iteration 150: Energy = -31.959999, Variance = 0.158400\n",
      "Iteration 151: Energy = -31.959999, Variance = 0.158400\n",
      "Iteration 152: Energy = -31.959999, Variance = 0.158400\n",
      "Iteration 153: Energy = -31.879999, Variance = 0.465600\n",
      "Iteration 154: Energy = -31.959999, Variance = 0.158400\n",
      "Iteration 155: Energy = -31.920000, Variance = 0.313600\n",
      "Iteration 156: Energy = -31.959999, Variance = 0.158400\n",
      "Iteration 157: Energy = -31.959999, Variance = 0.158400\n",
      "Iteration 158: Energy = -31.959999, Variance = 0.158400\n",
      "Iteration 159: Energy = -32.000000, Variance = 0.000000\n",
      "Iteration 160: Energy = -31.959999, Variance = 0.158400\n",
      "Iteration 161: Energy = -31.959999, Variance = 0.158400\n",
      "Iteration 162: Energy = -31.920000, Variance = 0.313600\n",
      "Iteration 163: Energy = -32.000000, Variance = 0.000000\n",
      "Iteration 164: Energy = -31.959999, Variance = 0.158400\n",
      "Iteration 165: Energy = -32.000000, Variance = 0.000000\n",
      "Iteration 166: Energy = -32.000000, Variance = 0.000000\n",
      "Iteration 167: Energy = -32.000000, Variance = 0.000000\n",
      "Iteration 168: Energy = -32.000000, Variance = 0.000000\n",
      "Iteration 169: Energy = -31.959999, Variance = 0.158400\n",
      "Iteration 170: Energy = -32.000000, Variance = 0.000000\n",
      "Iteration 171: Energy = -31.959999, Variance = 0.158400\n",
      "Iteration 172: Energy = -32.000000, Variance = 0.000000\n",
      "Iteration 173: Energy = -32.000000, Variance = 0.000000\n",
      "Iteration 174: Energy = -31.959999, Variance = 0.158400\n",
      "Iteration 175: Energy = -32.000000, Variance = 0.000000\n",
      "Iteration 176: Energy = -32.000000, Variance = 0.000000\n",
      "Iteration 177: Energy = -31.959999, Variance = 0.158400\n",
      "Iteration 178: Energy = -32.000000, Variance = 0.000000\n",
      "Iteration 179: Energy = -31.959999, Variance = 0.158400\n",
      "Iteration 180: Energy = -31.959999, Variance = 0.158400\n",
      "Iteration 181: Energy = -31.959999, Variance = 0.158400\n",
      "Iteration 182: Energy = -32.000000, Variance = 0.000000\n",
      "Iteration 183: Energy = -32.000000, Variance = 0.000000\n",
      "Iteration 184: Energy = -32.000000, Variance = 0.000000\n",
      "Iteration 185: Energy = -32.000000, Variance = 0.000000\n",
      "Iteration 186: Energy = -32.000000, Variance = 0.000000\n",
      "Iteration 187: Energy = -32.000000, Variance = 0.000000\n",
      "Iteration 188: Energy = -32.000000, Variance = 0.000000\n",
      "Iteration 189: Energy = -32.000000, Variance = 0.000000\n",
      "Iteration 190: Energy = -32.000000, Variance = 0.000000\n",
      "Iteration 191: Energy = -32.000000, Variance = 0.000000\n",
      "Iteration 192: Energy = -31.959999, Variance = 0.158400\n",
      "Iteration 193: Energy = -32.000000, Variance = 0.000000\n",
      "Iteration 194: Energy = -31.959999, Variance = 0.158400\n",
      "Iteration 195: Energy = -31.840000, Variance = 0.614400\n",
      "Iteration 196: Energy = -31.920000, Variance = 0.313600\n",
      "Iteration 197: Energy = -31.959999, Variance = 0.158400\n",
      "Iteration 198: Energy = -31.920000, Variance = 0.313600\n",
      "Iteration 199: Energy = -32.000000, Variance = 0.000000\n"
     ]
    }
   ],
   "source": [
    "results_sr = opt_1.train(n_iterations=200)"
   ]
  },
  {
   "cell_type": "code",
   "execution_count": 21,
   "id": "7d9467d3",
   "metadata": {},
   "outputs": [],
   "source": [
    "# plot the results\n",
    "import matplotlib.pyplot as plt"
   ]
  },
  {
   "cell_type": "code",
   "execution_count": 22,
   "id": "f1976a77",
   "metadata": {},
   "outputs": [
    {
     "data": {
      "image/png": "[encoded data removed]",
      "text/plain": [
       "<Figure size 640x480 with 1 Axes>"
      ]
     },
     "metadata": {},
     "output_type": "display_data"
    }
   ],
   "source": [
    "#plt.errorbar(\n",
    "#    np.arange(len(results_vmc['energies'])),\n",
    "#    results_vmc['energies'],\n",
    "#    yerr=np.sqrt(results_vmc['variances']),\n",
    "#    label='Energy VMC',\n",
    "#    ecolor='tab:blue',\n",
    "#    elinewidth=2,\n",
    "#    alpha=0.2,\n",
    "#    capsize=1\n",
    "#)\n",
    "plt.errorbar(\n",
    "    np.arange(len(results_sr['energies'])),\n",
    "    results_sr['energies'],\n",
    "    yerr=np.sqrt(results_sr['variances']),\n",
    "    label='Energy SR',\n",
    "    ecolor='tab:orange',\n",
    "    elinewidth=2,\n",
    "    alpha=0.2,\n",
    "    capsize=1\n",
    ")\n",
    "#plt.plot(results_vmc['energies'], label='Energy VMC', color='blue')\n",
    "plt.plot(results_sr['energies'], label='Energy SR', color='orange')\n",
    "plt.xlabel('Iteration')\n",
    "plt.ylabel('Value')\n",
    "plt.legend()\n",
    "plt.show()"
   ]
  },
  {
   "cell_type": "code",
   "execution_count": 27,
   "id": "1f9643af",
   "metadata": {},
   "outputs": [
    {
     "name": "stdout",
     "output_type": "stream",
     "text": [
      "tf.Tensor(\n",
      "[1. 1. 1. 1. 1. 1. 1. 1. 1. 1. 1. 1. 1. 1. 1. 1. 1. 1. 1. 1. 1. 1. 1. 1.\n",
      " 1. 1. 1. 1. 1. 1. 1. 1.], shape=(32,), dtype=float32)\n",
      "Mean energy: -31.96\n",
      "Variance: 0.1584\n"
     ]
    }
   ],
   "source": [
    "#print(m_sampler.sample(wave)[0])\n",
    "print(m_sampler_1.sample(wave_1)[0])\n",
    "#print(m_sampler_1.sample(wave_1))\n",
    "energies = ham.local_energy(m_sampler_1.current_state, wave_1)\n",
    "mean = tf.reduce_mean(energies)\n",
    "variance = tf.math.reduce_variance(energies)\n",
    "print(\"Mean energy:\", mean.numpy())\n",
    "print(\"Variance:\", variance.numpy())"
   ]
  },
  {
   "cell_type": "code",
   "execution_count": 28,
   "id": "a21c8f18",
   "metadata": {},
   "outputs": [],
   "source": [
    "ham_2 = Ising1D(L=L, J=1.0, h=0.1)\n",
    "wave_2 = nnqs.RBM(n_visible=L, n_hidden=n_hidden_spins, std_weights=0.01)\n",
    "wave_2.W.assign(wave_1.W)\n",
    "wave_2.a.assign(wave_1.a)\n",
    "wave_2.b.assign(wave_1.b)\n",
    "#m_sampler_2 = sampler.MRT2(n_sites=L, n_chains=10, batch_size=100, n_sweeps=5)\n",
    "\n",
    "opt_2 = optimizer.StochasticReconfiguration(\n",
    "    wave_function=wave_2,\n",
    "    hamiltonian=ham_2,\n",
    "    sampler=m_sampler_1,\n",
    "    learning_rate=0.01,\n",
    "    epsilon=0.001,\n",
    ")\n",
    "#opt_2.optimizer = tf.keras.optimizers.SGD(learning_rate=0.001)"
   ]
  },
  {
   "cell_type": "code",
   "execution_count": 31,
   "id": "09c230d1",
   "metadata": {},
   "outputs": [
    {
     "data": {
      "image/png": "[encoded data removed]",
      "text/plain": [
       "<Figure size 800x600 with 2 Axes>"
      ]
     },
     "metadata": {},
     "output_type": "display_data"
    }
   ],
   "source": [
    "weights = wave_1.W.numpy()\n",
    "# weights: shape (n_visible, n_hidden)\n",
    "n_visible, n_hidden = weights.shape\n",
    "\n",
    "plt.figure(figsize=(8,6))\n",
    "plt.imshow(weights, aspect=\"auto\", interpolation=\"nearest\")\n",
    "plt.colorbar(label=\"W[i,j]\")\n",
    "plt.xlabel(\"Hidden unit j\")\n",
    "plt.ylabel(\"Visible unit i\")\n",
    "plt.title(\"RBM weight matrix\")\n",
    "plt.show()"
   ]
  },
  {
   "cell_type": "code",
   "execution_count": 21,
   "id": "33516cfe",
   "metadata": {},
   "outputs": [
    {
     "name": "stdout",
     "output_type": "stream",
     "text": [
      "Iteration 0: Energy = -34.714001, Variance = 0.018604\n",
      "Iteration 1: Energy = -34.709999, Variance = 0.018700\n",
      "Iteration 2: Energy = -34.680000, Variance = 0.175200\n",
      "Iteration 3: Energy = -34.739998, Variance = 0.020400\n",
      "Iteration 4: Energy = -34.716000, Variance = 0.020944\n",
      "Iteration 5: Energy = -34.765999, Variance = 0.022444\n",
      "Iteration 6: Energy = -34.736000, Variance = 0.215904\n",
      "Iteration 7: Energy = -34.767998, Variance = 0.025376\n",
      "Iteration 8: Energy = -34.755997, Variance = 0.019664\n",
      "Iteration 9: Energy = -34.790001, Variance = 0.017100\n"
     ]
    }
   ],
   "source": [
    "results_perturbation = opt_2.train(n_iterations=10)"
   ]
  },
  {
   "cell_type": "code",
   "execution_count": 22,
   "id": "c65e1b4c",
   "metadata": {},
   "outputs": [],
   "source": [
    "ham_2 = Ising1D(L=L, J=1.0, h=0.0)\n",
    "#m_sampler_2 = sampler.MRT2(n_sites=L, n_chains=10, batch_size=100, n_sweeps=5)\n",
    "\n",
    "opt_3 = optimizer.StochasticReconfiguration(\n",
    "    wave_function=wave_2,\n",
    "    hamiltonian=ham_2,\n",
    "    sampler=m_sampler_1,\n",
    "    learning_rate=0.01,\n",
    "    epsilon=0.001,\n",
    ")"
   ]
  },
  {
   "cell_type": "code",
   "execution_count": 23,
   "id": "da1d9620",
   "metadata": {},
   "outputs": [
    {
     "name": "stdout",
     "output_type": "stream",
     "text": [
      "Iteration 0: Energy = -32.000000, Variance = 0.000000\n",
      "Iteration 1: Energy = -31.959999, Variance = 0.158400\n",
      "Iteration 2: Energy = -32.000000, Variance = 0.000000\n",
      "Iteration 3: Energy = -31.959999, Variance = 0.158400\n",
      "Iteration 4: Energy = -32.000000, Variance = 0.000000\n",
      "Iteration 5: Energy = -32.000000, Variance = 0.000000\n",
      "Iteration 6: Energy = -32.000000, Variance = 0.000000\n",
      "Iteration 7: Energy = -32.000000, Variance = 0.000000\n",
      "Iteration 8: Energy = -32.000000, Variance = 0.000000\n",
      "Iteration 9: Energy = -32.000000, Variance = 0.000000\n",
      "Iteration 10: Energy = -32.000000, Variance = 0.000000\n",
      "Iteration 11: Energy = -32.000000, Variance = 0.000000\n",
      "Iteration 12: Energy = -32.000000, Variance = 0.000000\n",
      "Iteration 13: Energy = -32.000000, Variance = 0.000000\n",
      "Iteration 14: Energy = -32.000000, Variance = 0.000000\n",
      "Iteration 15: Energy = -32.000000, Variance = 0.000000\n",
      "Iteration 16: Energy = -32.000000, Variance = 0.000000\n"
     ]
    },
    {
     "ename": "KeyboardInterrupt",
     "evalue": "",
     "output_type": "error",
     "traceback": [
      "\u001b[31m---------------------------------------------------------------------------\u001b[39m",
      "\u001b[31mKeyboardInterrupt\u001b[39m                         Traceback (most recent call last)",
      "\u001b[36mCell\u001b[39m\u001b[36m \u001b[39m\u001b[32mIn[23]\u001b[39m\u001b[32m, line 1\u001b[39m\n\u001b[32m----> \u001b[39m\u001b[32m1\u001b[39m result_after = \u001b[43mopt_3\u001b[49m\u001b[43m.\u001b[49m\u001b[43mtrain\u001b[49m\u001b[43m(\u001b[49m\u001b[43mn_iterations\u001b[49m\u001b[43m=\u001b[49m\u001b[32;43m50\u001b[39;49m\u001b[43m)\u001b[49m\n",
      "\u001b[36mFile \u001b[39m\u001b[32m~/projects/nnqs/optimizer.py:53\u001b[39m, in \u001b[36mQOptimzer.train\u001b[39m\u001b[34m(self, n_iterations, verbose)\u001b[39m\n\u001b[32m     51\u001b[39m variance_history = []\n\u001b[32m     52\u001b[39m \u001b[38;5;28;01mfor\u001b[39;00m i \u001b[38;5;129;01min\u001b[39;00m \u001b[38;5;28mrange\u001b[39m(n_iterations):\n\u001b[32m---> \u001b[39m\u001b[32m53\u001b[39m     energy, variance = \u001b[38;5;28;43mself\u001b[39;49m\u001b[43m.\u001b[49m\u001b[43moptimize_step\u001b[49m\u001b[43m(\u001b[49m\u001b[43m)\u001b[49m\n\u001b[32m     54\u001b[39m     energy_history.append(\u001b[38;5;28mfloat\u001b[39m(energy))\n\u001b[32m     55\u001b[39m     variance_history.append(\u001b[38;5;28mfloat\u001b[39m(variance))\n",
      "\u001b[36mFile \u001b[39m\u001b[32m~/projects/nnqs/optimizer.py:200\u001b[39m, in \u001b[36mStochasticReconfiguration.optimize_step\u001b[39m\u001b[34m(self)\u001b[39m\n\u001b[32m    198\u001b[39m P = tf.shape(S)[\u001b[32m0\u001b[39m]\n\u001b[32m    199\u001b[39m S_reg = S + \u001b[38;5;28mself\u001b[39m.epsilon * tf.eye(P, dtype=S.dtype)\n\u001b[32m--> \u001b[39m\u001b[32m200\u001b[39m gradients = \u001b[43mtf\u001b[49m\u001b[43m.\u001b[49m\u001b[43mlinalg\u001b[49m\u001b[43m.\u001b[49m\u001b[43msolve\u001b[49m\u001b[43m(\u001b[49m\u001b[43mS_reg\u001b[49m\u001b[43m,\u001b[49m\u001b[43m \u001b[49m\u001b[43mtf\u001b[49m\u001b[43m.\u001b[49m\u001b[43mexpand_dims\u001b[49m\u001b[43m(\u001b[49m\u001b[43mF_vec\u001b[49m\u001b[43m,\u001b[49m\u001b[43m \u001b[49m\u001b[32;43m1\u001b[39;49m\u001b[43m)\u001b[49m\u001b[43m)\u001b[49m\n\u001b[32m    202\u001b[39m gradients = tf.squeeze(gradients, \u001b[32m1\u001b[39m)\n\u001b[32m    203\u001b[39m gradients = tf.split(gradients, param_sizes, axis=\u001b[32m0\u001b[39m)\n",
      "\u001b[36mFile \u001b[39m\u001b[32m~/projects/nnqs/tf-gpu-venv/lib64/python3.12/site-packages/tensorflow/python/ops/gen_linalg_ops.py:1723\u001b[39m, in \u001b[36mmatrix_solve\u001b[39m\u001b[34m(matrix, rhs, adjoint, name)\u001b[39m\n\u001b[32m   1721\u001b[39m \u001b[38;5;28;01mif\u001b[39;00m tld.is_eager:\n\u001b[32m   1722\u001b[39m   \u001b[38;5;28;01mtry\u001b[39;00m:\n\u001b[32m-> \u001b[39m\u001b[32m1723\u001b[39m     _result = \u001b[43mpywrap_tfe\u001b[49m\u001b[43m.\u001b[49m\u001b[43mTFE_Py_FastPathExecute\u001b[49m\u001b[43m(\u001b[49m\n\u001b[32m   1724\u001b[39m \u001b[43m      \u001b[49m\u001b[43m_ctx\u001b[49m\u001b[43m,\u001b[49m\u001b[43m \u001b[49m\u001b[33;43m\"\u001b[39;49m\u001b[33;43mMatrixSolve\u001b[39;49m\u001b[33;43m\"\u001b[39;49m\u001b[43m,\u001b[49m\u001b[43m \u001b[49m\u001b[43mname\u001b[49m\u001b[43m,\u001b[49m\u001b[43m \u001b[49m\u001b[43mmatrix\u001b[49m\u001b[43m,\u001b[49m\u001b[43m \u001b[49m\u001b[43mrhs\u001b[49m\u001b[43m,\u001b[49m\u001b[43m \u001b[49m\u001b[33;43m\"\u001b[39;49m\u001b[33;43madjoint\u001b[39;49m\u001b[33;43m\"\u001b[39;49m\u001b[43m,\u001b[49m\u001b[43m \u001b[49m\u001b[43madjoint\u001b[49m\u001b[43m)\u001b[49m\n\u001b[32m   1725\u001b[39m     \u001b[38;5;28;01mreturn\u001b[39;00m _result\n\u001b[32m   1726\u001b[39m   \u001b[38;5;28;01mexcept\u001b[39;00m _core._NotOkStatusException \u001b[38;5;28;01mas\u001b[39;00m e:\n",
      "\u001b[31mKeyboardInterrupt\u001b[39m: "
     ]
    }
   ],
   "source": [
    "result_after = opt_3.train(n_iterations=50)"
   ]
  }
 ],
 "metadata": {
  "kernelspec": {
   "display_name": "tf-gpu-venv",
   "language": "python",
   "name": "python3"
  },
  "language_info": {
   "codemirror_mode": {
    "name": "ipython",
    "version": 3
   },
   "file_extension": ".py",
   "mimetype": "text/x-python",
   "name": "python",
   "nbconvert_exporter": "python",
   "pygments_lexer": "ipython3",
   "version": "3.12.11"
  }
 },
 "nbformat": 4,
 "nbformat_minor": 5
}
