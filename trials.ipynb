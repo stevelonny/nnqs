{
 "cells": [
  {
   "cell_type": "code",
   "execution_count": 1,
   "id": "16203f8d",
   "metadata": {},
   "outputs": [
    {
     "name": "stderr",
     "output_type": "stream",
     "text": [
      "2025-07-09 16:29:59.532751: E external/local_xla/xla/stream_executor/cuda/cuda_fft.cc:467] Unable to register cuFFT factory: Attempting to register factory for plugin cuFFT when one has already been registered\n",
      "WARNING: All log messages before absl::InitializeLog() is called are written to STDERR\n",
      "E0000 00:00:1752071399.554839   39375 cuda_dnn.cc:8579] Unable to register cuDNN factory: Attempting to register factory for plugin cuDNN when one has already been registered\n",
      "E0000 00:00:1752071399.561338   39375 cuda_blas.cc:1407] Unable to register cuBLAS factory: Attempting to register factory for plugin cuBLAS when one has already been registered\n",
      "W0000 00:00:1752071399.578000   39375 computation_placer.cc:177] computation placer already registered. Please check linkage and avoid linking the same target more than once.\n",
      "W0000 00:00:1752071399.578019   39375 computation_placer.cc:177] computation placer already registered. Please check linkage and avoid linking the same target more than once.\n",
      "W0000 00:00:1752071399.578022   39375 computation_placer.cc:177] computation placer already registered. Please check linkage and avoid linking the same target more than once.\n",
      "W0000 00:00:1752071399.578023   39375 computation_placer.cc:177] computation placer already registered. Please check linkage and avoid linking the same target more than once.\n",
      "2025-07-09 16:29:59.583666: I tensorflow/core/platform/cpu_feature_guard.cc:210] This TensorFlow binary is optimized to use available CPU instructions in performance-critical operations.\n",
      "To enable the following instructions: AVX2 FMA, in other operations, rebuild TensorFlow with the appropriate compiler flags.\n"
     ]
    }
   ],
   "source": [
    "import tensorflow as tf\n",
    "import numpy as np\n",
    "import tensorflow_probability as tfp\n",
    "import nnqs\n",
    "import sampler"
   ]
  },
  {
   "cell_type": "code",
   "execution_count": 2,
   "id": "538d837d",
   "metadata": {},
   "outputs": [
    {
     "name": "stdout",
     "output_type": "stream",
     "text": [
      "<tf.Variable 'mrt2_state:0' shape=(1, 16) dtype=int32, numpy=array([[1, 0, 1, 1, 1, 0, 0, 1, 1, 0, 1, 0, 1, 1, 1, 1]], dtype=int32)>\n"
     ]
    },
    {
     "name": "stderr",
     "output_type": "stream",
     "text": [
      "I0000 00:00:1752071402.868954   39375 gpu_device.cc:2019] Created device /job:localhost/replica:0/task:0/device:GPU:0 with 2609 MB memory:  -> device: 0, name: NVIDIA GeForce GTX 1650 with Max-Q Design, pci bus id: 0000:01:00.0, compute capability: 7.5\n"
     ]
    }
   ],
   "source": [
    "n_spins = 16\n",
    "# density = hidden/visible\n",
    "density = 4\n",
    "n_hidden_spins = int(n_spins * density)\n",
    "\n",
    "wave = nnqs.RBM(n_visible=n_spins, n_hidden=n_hidden_spins)\n",
    "mrt2_sampler = sampler.MRT2(n_sites=n_spins, batch_size=10, n_chains=1, n_sweeps=10)\n",
    "\n",
    "print(mrt2_sampler.current_state)"
   ]
  },
  {
   "cell_type": "code",
   "execution_count": 3,
   "id": "ee71abd9",
   "metadata": {},
   "outputs": [
    {
     "name": "stdout",
     "output_type": "stream",
     "text": [
      "State parts: (<tf.Tensor: shape=(1, 16), dtype=int32, numpy=array([[1, 0, 1, 1, 1, 0, 0, 1, 1, 0, 1, 0, 1, 1, 1, 1]], dtype=int32)>,)\n",
      "Initial state: MetropolisHastingsKernelResults(\n",
      "  accepted_results=UncalibratedRandomWalkResults(\n",
      "      log_acceptance_correction=<tf.Tensor: shape=(1,), dtype=float32, numpy=array([0.], dtype=float32)>,\n",
      "      target_log_prob=<tf.Tensor: shape=(1,), dtype=float32, numpy=array([89.29968], dtype=float32)>,\n",
      "      seed=[]\n",
      "    ),\n",
      "  is_accepted=<tf.Tensor: shape=(1,), dtype=bool, numpy=array([ True])>,\n",
      "  log_accept_ratio=<tf.Tensor: shape=(1,), dtype=float32, numpy=array([0.], dtype=float32)>,\n",
      "  proposed_state=<tf.Variable 'mrt2_state:0' shape=(1, 16) dtype=int32, numpy=array([[1, 0, 1, 1, 1, 0, 0, 1, 1, 0, 1, 0, 1, 1, 1, 1]], dtype=int32)>,\n",
      "  proposed_results=UncalibratedRandomWalkResults(\n",
      "      log_acceptance_correction=<tf.Tensor: shape=(1,), dtype=float32, numpy=array([0.], dtype=float32)>,\n",
      "      target_log_prob=<tf.Tensor: shape=(1,), dtype=float32, numpy=array([89.29968], dtype=float32)>,\n",
      "      seed=<tf.Tensor: shape=(2,), dtype=int32, numpy=array([0, 0], dtype=int32)>\n",
      "    ),\n",
      "  extra=[],\n",
      "  seed=<tf.Tensor: shape=(2,), dtype=int32, numpy=array([0, 0], dtype=int32)>\n",
      ")\n",
      "State parts: (<tf.Tensor: shape=(1, 16), dtype=int32, numpy=array([[1, 0, 1, 1, 1, 0, 1, 1, 1, 0, 1, 0, 1, 1, 1, 1]], dtype=int32)>, <tf.Tensor: shape=(1, 16), dtype=int32, numpy=array([[1, 0, 1, 1, 1, 0, 1, 1, 1, 0, 1, 0, 1, 1, 1, 1]], dtype=int32)>)\n",
      "New state after one step: tf.Tensor([[1 0 1 1 1 0 1 1 1 0 1 0 1 1 1 1]], shape=(1, 16), dtype=int32)\n",
      "Kernel results: MetropolisHastingsKernelResults(\n",
      "  accepted_results=UncalibratedRandomWalkResults(\n",
      "      log_acceptance_correction=<tf.Tensor: shape=(1,), dtype=float32, numpy=array([0.], dtype=float32)>,\n",
      "      target_log_prob=<tf.Tensor: shape=(1,), dtype=float32, numpy=array([88.698906], dtype=float32)>,\n",
      "      seed=[]\n",
      "    ),\n",
      "  is_accepted=<tf.Tensor: shape=(1,), dtype=bool, numpy=array([ True])>,\n",
      "  log_accept_ratio=<tf.Tensor: shape=(1,), dtype=float32, numpy=array([-0.6007767], dtype=float32)>,\n",
      "  proposed_state=<tf.Tensor: shape=(1, 16), dtype=int32, numpy=array([[1, 0, 1, 1, 1, 0, 1, 1, 1, 0, 1, 0, 1, 1, 1, 1]], dtype=int32)>,\n",
      "  proposed_results=UncalibratedRandomWalkResults(\n",
      "      log_acceptance_correction=<tf.Tensor: shape=(1,), dtype=float32, numpy=array([0.], dtype=float32)>,\n",
      "      target_log_prob=<tf.Tensor: shape=(1,), dtype=float32, numpy=array([88.698906], dtype=float32)>,\n",
      "      seed=<tf.Tensor: shape=(2,), dtype=int32, numpy=array([-518161081, -960723840], dtype=int32)>\n",
      "    ),\n",
      "  extra=[],\n",
      "  seed=<tf.Tensor: shape=(2,), dtype=int32, numpy=array([ 838460424, 1985393996], dtype=int32)>\n",
      ")\n"
     ]
    }
   ],
   "source": [
    "def target_log_prob(*state_parts):\n",
    "    print(\"State parts:\", state_parts)\n",
    "    if len(state_parts) == 1:\n",
    "        state = state_parts[0]\n",
    "    else:\n",
    "        state = state_parts[0]\n",
    "    \n",
    "    return wave.log_prob(state)\n",
    "\n",
    "\n",
    "metro_kernel = tfp.mcmc.RandomWalkMetropolis(\n",
    "    target_log_prob_fn=target_log_prob,\n",
    "    new_state_fn=mrt2_sampler._single_site_flip\n",
    ")\n",
    "\n",
    "init_state = metro_kernel.bootstrap_results(mrt2_sampler.current_state)\n",
    "\n",
    "print(\"Initial state:\", init_state)\n",
    "\n",
    "result = metro_kernel.one_step(\n",
    "    current_state=mrt2_sampler.current_state,\n",
    "    previous_kernel_results=init_state,\n",
    "    seed=42\n",
    ")\n",
    "\n",
    "print(\"New state after one step:\", result[0])\n",
    "print(\"Kernel results:\", result[1])\n"
   ]
  },
  {
   "cell_type": "code",
   "execution_count": 4,
   "id": "a4e04dac",
   "metadata": {},
   "outputs": [
    {
     "name": "stdout",
     "output_type": "stream",
     "text": [
      "Generated samples:\n",
      "(<tf.Tensor: shape=(10, 16), dtype=float32, numpy=\n",
      "array([[1., 0., 1., 1., 1., 1., 1., 1., 1., 1., 1., 0., 1., 1., 1., 1.],\n",
      "       [1., 0., 1., 1., 1., 1., 1., 1., 1., 1., 1., 0., 1., 1., 1., 1.],\n",
      "       [1., 0., 1., 1., 1., 1., 1., 1., 1., 1., 1., 0., 1., 1., 1., 1.],\n",
      "       [1., 0., 1., 1., 1., 1., 1., 1., 1., 1., 1., 0., 1., 1., 1., 1.],\n",
      "       [1., 0., 1., 1., 1., 1., 1., 1., 1., 1., 1., 0., 1., 1., 1., 1.],\n",
      "       [1., 0., 1., 1., 1., 1., 1., 1., 1., 1., 1., 0., 1., 1., 1., 1.],\n",
      "       [1., 0., 1., 1., 1., 1., 1., 1., 1., 1., 1., 0., 1., 1., 1., 1.],\n",
      "       [1., 0., 1., 1., 1., 1., 1., 1., 1., 1., 1., 0., 1., 1., 1., 1.],\n",
      "       [1., 0., 1., 1., 1., 1., 1., 1., 1., 1., 1., 0., 1., 1., 1., 1.],\n",
      "       [1., 0., 1., 1., 1., 1., 1., 1., 1., 1., 1., 0., 1., 1., 1., 1.]],\n",
      "      dtype=float32)>, <tf.Tensor: shape=(), dtype=float32, numpy=0.699999988079071>, <tf.Tensor: shape=(10, 1), dtype=bool, numpy=\n",
      "array([[ True],\n",
      "       [ True],\n",
      "       [False],\n",
      "       [False],\n",
      "       [ True],\n",
      "       [ True],\n",
      "       [ True],\n",
      "       [False],\n",
      "       [ True],\n",
      "       [ True]])>)\n"
     ]
    }
   ],
   "source": [
    "samples = mrt2_sampler.sample_with_diagnostics(wave)\n",
    "\n",
    "print(\"Generated samples:\")\n",
    "print(samples)\n"
   ]
  },
  {
   "cell_type": "code",
   "execution_count": 5,
   "id": "4d8d5318",
   "metadata": {},
   "outputs": [
    {
     "name": "stdout",
     "output_type": "stream",
     "text": [
      "<tf.Variable 'mrt2_state:0' shape=(1, 16) dtype=int32, numpy=array([[1, 0, 1, 1, 1, 1, 1, 1, 1, 1, 1, 0, 1, 1, 1, 1]], dtype=int32)>\n",
      "<tf.Variable 'visible_bias:0' shape=(16,) dtype=float32, numpy=\n",
      "array([-0.00661019, -0.16981201,  0.09483193, -0.06008063, -0.09186407,\n",
      "       -0.04272849, -0.00348994,  0.03309365, -0.03137584, -0.01620407,\n",
      "       -0.07359698, -0.02693218,  0.08760764,  0.07020556, -0.05304328,\n",
      "       -0.15884362], dtype=float32)>\n",
      "<tf.Variable 'hidden_bias:0' shape=(64,) dtype=float32, numpy=\n",
      "array([-0.03923926,  0.03368663, -0.2347214 ,  0.07666726,  0.03409345,\n",
      "       -0.05664311,  0.11389887, -0.09986163, -0.03448831, -0.3251216 ,\n",
      "       -0.14559953, -0.01346879,  0.02683028, -0.03236302,  0.11542135,\n",
      "       -0.06658442,  0.03160604,  0.00428767, -0.05838616, -0.00056354,\n",
      "        0.08442327, -0.05951727,  0.20788567, -0.02442737, -0.04564942,\n",
      "       -0.02173257,  0.11523371,  0.07958623, -0.01662771,  0.08083832,\n",
      "        0.00124801,  0.07552718, -0.09575661,  0.0086386 ,  0.05925742,\n",
      "       -0.08012444, -0.06451175, -0.02818272, -0.08472125, -0.05103163,\n",
      "       -0.09709147, -0.0808953 , -0.00469476,  0.05278816,  0.00964634,\n",
      "       -0.06890067,  0.09338182,  0.04624564, -0.12693568,  0.10881177,\n",
      "       -0.1394021 ,  0.0359101 ,  0.04058149, -0.3469341 ,  0.02548717,\n",
      "       -0.15702021,  0.04134195, -0.07277688,  0.02790808,  0.02445334,\n",
      "        0.00554036,  0.01718471, -0.09455318, -0.09418901], dtype=float32)>\n",
      "<tf.Variable 'weights:0' shape=(16, 64) dtype=float32, numpy=\n",
      "array([[ 0.0789635 , -0.09652181, -0.04346514, ..., -0.05647821,\n",
      "         0.11199776, -0.17064828],\n",
      "       [-0.05283898,  0.08643264, -0.13366576, ..., -0.10619555,\n",
      "        -0.08226819, -0.2714565 ],\n",
      "       [-0.1007392 ,  0.03295675,  0.09590537, ..., -0.04913757,\n",
      "         0.04265376,  0.01807496],\n",
      "       ...,\n",
      "       [-0.17030925, -0.1203291 , -0.00862198, ...,  0.07484175,\n",
      "         0.08767328, -0.26947027],\n",
      "       [ 0.1125889 , -0.09822967, -0.18798983, ...,  0.16081111,\n",
      "        -0.04793103, -0.03701479],\n",
      "       [-0.02614751,  0.0162499 ,  0.0460693 , ...,  0.10870371,\n",
      "        -0.00344296,  0.01723055]], dtype=float32)>\n"
     ]
    },
    {
     "data": {
      "text/plain": [
       "<tf.Tensor: shape=(1,), dtype=float32, numpy=array([44.358906], dtype=float32)>"
      ]
     },
     "execution_count": 5,
     "metadata": {},
     "output_type": "execute_result"
    }
   ],
   "source": [
    "print(mrt2_sampler.current_state)\n",
    "print(wave.a)\n",
    "print(wave.b)\n",
    "print(wave.W)\n",
    "\n",
    "wave.log_psi(mrt2_sampler.current_state)"
   ]
  },
  {
   "cell_type": "code",
   "execution_count": 6,
   "id": "02725eaf",
   "metadata": {},
   "outputs": [
    {
     "name": "stdout",
     "output_type": "stream",
     "text": [
      "Log prob (all zeros): tf.Tensor([12.392055], shape=(1,), dtype=float32)\n",
      "Log prob (all ones): tf.Tensor([10.46623], shape=(1,), dtype=float32)\n",
      "Log prob (random): tf.Tensor([11.93464], shape=(1,), dtype=float32)\n",
      "Prob (all zeros): tf.Tensor([240880.11], shape=(1,), dtype=float32)\n",
      "Prob (all ones): tf.Tensor([35109.617], shape=(1,), dtype=float32)\n",
      "Prob (random): tf.Tensor([152457.31], shape=(1,), dtype=float32)\n"
     ]
    }
   ],
   "source": [
    "wave_test = nnqs.RBM(n_visible=8, n_hidden=8)\n",
    "\n",
    "states0 = tf.zeros((1, 8), dtype=tf.float32)  # All zeros\n",
    "states1 = tf.ones((1, 8), dtype=tf.float32)   # All ones\n",
    "states_r = tf.random.uniform((1, 8), maxval=2, dtype=tf.int32)\n",
    "states_r = tf.cast(states_r, tf.float32)\n",
    "\n",
    "print(\"Log prob (all zeros):\", wave_test.log_prob(states0))\n",
    "print(\"Log prob (all ones):\", wave_test.log_prob(states1))  \n",
    "print(\"Log prob (random):\", wave_test.log_prob(states_r))\n",
    "print(\"Prob (all zeros):\", tf.exp(wave_test.log_prob(states0)))\n",
    "print(\"Prob (all ones):\", tf.exp(wave_test.log_prob(states1)))\n",
    "print(\"Prob (random):\", tf.exp(wave_test.log_prob(states_r)))"
   ]
  },
  {
   "cell_type": "code",
   "execution_count": 7,
   "id": "c1a20d0f",
   "metadata": {},
   "outputs": [
    {
     "name": "stdout",
     "output_type": "stream",
     "text": [
      "Test states: [[0 1 0 0 0 1 0 0]\n",
      " [0 1 0 1 1 1 0 1]\n",
      " [1 0 1 0 0 1 1 1]\n",
      " [0 1 1 0 0 0 0 0]\n",
      " [1 1 0 1 1 0 1 0]]\n",
      "Test states (as float): [[0. 1. 0. 0. 0. 1. 0. 0.]\n",
      " [0. 1. 0. 1. 1. 1. 0. 1.]\n",
      " [1. 0. 1. 0. 0. 1. 1. 1.]\n",
      " [0. 1. 1. 0. 0. 0. 0. 0.]\n",
      " [1. 1. 0. 1. 1. 0. 1. 0.]]\n",
      "Sum of visible biases: [-0.06577981 -0.15950862  0.02992091  0.05914544 -0.09354654]\n",
      "Sum of hidden biases: [5.615298  5.585548  5.588237  5.648363  5.6377125]\n",
      "Log prob (manual): [5.549518  5.426039  5.618158  5.7075086 5.544166 ]\n",
      "Prob: [257.11362 227.24739 275.38162 301.1199  255.74123]\n",
      "Log prob: tf.Tensor([10.683421 11.188381 11.93464  10.028568 11.463413], shape=(5,), dtype=float32)\n",
      "Prob: tf.Tensor([ 43626.547  72285.67  152457.31   22664.799  95169.36 ], shape=(5,), dtype=float32)\n"
     ]
    }
   ],
   "source": [
    "test_states = tf.random.uniform((5, 8), maxval=2, dtype=tf.int32)\n",
    "print(\"Test states:\", test_states.numpy())\n",
    "test_states = tf.cast(test_states, tf.float32)\n",
    "print(\"Test states (as float):\", test_states.numpy())\n",
    "log_probs = wave_test.log_prob(test_states)\n",
    "sum_visible = tf.reduce_sum(wave_test.a * test_states, axis=1)\n",
    "sum_hidden = tf.reduce_sum(tf.math.log(2.0*(tf.math.cosh(wave_test.b + tf.matmul(test_states, wave_test.W)))), axis=1)\n",
    "print(\"Sum of visible biases:\", sum_visible.numpy())\n",
    "print(\"Sum of hidden biases:\", sum_hidden.numpy())\n",
    "log_prob_test = sum_visible + sum_hidden\n",
    "print(\"Log prob (manual):\", log_prob_test.numpy())\n",
    "print(\"Prob:\", tf.exp(log_prob_test).numpy())\n",
    "\n",
    "print(\"Log prob:\", log_probs)\n",
    "print(\"Prob:\", tf.exp(log_probs))"
   ]
  },
  {
   "cell_type": "code",
   "execution_count": 8,
   "id": "dca05660",
   "metadata": {},
   "outputs": [],
   "source": [
    "# test_state = tf.constant([[1, 0, 1, 0, 1, 0, 1, 0]], dtype=tf.int32)\n",
    "# flipped = mrt2_sampler._single_site_flip(test_state)\n",
    "# print(\"Original:\", test_state)\n",
    "# print(\"Log prob (Original)\", wave_test.log_prob(test_state))\n",
    "# print(\"Flipped: \", flipped)\n",
    "# print(\"Log prob (Flipped)\", wave_test.log_prob(flipped))\n",
    "# print(\"Ratio of log:\", wave_test.log_prob(flipped) - wave_test.log_prob(test_state))"
   ]
  },
  {
   "cell_type": "code",
   "execution_count": 9,
   "id": "d6e11cd6",
   "metadata": {},
   "outputs": [
    {
     "data": {
      "text/plain": [
       "(<tf.Variable 'weights:0' shape=(16, 64) dtype=float32, numpy=\n",
       " array([[ 0.0789635 , -0.09652181, -0.04346514, ..., -0.05647821,\n",
       "          0.11199776, -0.17064828],\n",
       "        [-0.05283898,  0.08643264, -0.13366576, ..., -0.10619555,\n",
       "         -0.08226819, -0.2714565 ],\n",
       "        [-0.1007392 ,  0.03295675,  0.09590537, ..., -0.04913757,\n",
       "          0.04265376,  0.01807496],\n",
       "        ...,\n",
       "        [-0.17030925, -0.1203291 , -0.00862198, ...,  0.07484175,\n",
       "          0.08767328, -0.26947027],\n",
       "        [ 0.1125889 , -0.09822967, -0.18798983, ...,  0.16081111,\n",
       "         -0.04793103, -0.03701479],\n",
       "        [-0.02614751,  0.0162499 ,  0.0460693 , ...,  0.10870371,\n",
       "         -0.00344296,  0.01723055]], dtype=float32)>,\n",
       " <tf.Variable 'visible_bias:0' shape=(16,) dtype=float32, numpy=\n",
       " array([-0.00661019, -0.16981201,  0.09483193, -0.06008063, -0.09186407,\n",
       "        -0.04272849, -0.00348994,  0.03309365, -0.03137584, -0.01620407,\n",
       "        -0.07359698, -0.02693218,  0.08760764,  0.07020556, -0.05304328,\n",
       "        -0.15884362], dtype=float32)>,\n",
       " <tf.Variable 'hidden_bias:0' shape=(64,) dtype=float32, numpy=\n",
       " array([-0.03923926,  0.03368663, -0.2347214 ,  0.07666726,  0.03409345,\n",
       "        -0.05664311,  0.11389887, -0.09986163, -0.03448831, -0.3251216 ,\n",
       "        -0.14559953, -0.01346879,  0.02683028, -0.03236302,  0.11542135,\n",
       "        -0.06658442,  0.03160604,  0.00428767, -0.05838616, -0.00056354,\n",
       "         0.08442327, -0.05951727,  0.20788567, -0.02442737, -0.04564942,\n",
       "        -0.02173257,  0.11523371,  0.07958623, -0.01662771,  0.08083832,\n",
       "         0.00124801,  0.07552718, -0.09575661,  0.0086386 ,  0.05925742,\n",
       "        -0.08012444, -0.06451175, -0.02818272, -0.08472125, -0.05103163,\n",
       "        -0.09709147, -0.0808953 , -0.00469476,  0.05278816,  0.00964634,\n",
       "        -0.06890067,  0.09338182,  0.04624564, -0.12693568,  0.10881177,\n",
       "        -0.1394021 ,  0.0359101 ,  0.04058149, -0.3469341 ,  0.02548717,\n",
       "        -0.15702021,  0.04134195, -0.07277688,  0.02790808,  0.02445334,\n",
       "         0.00554036,  0.01718471, -0.09455318, -0.09418901], dtype=float32)>)"
      ]
     },
     "execution_count": 9,
     "metadata": {},
     "output_type": "execute_result"
    }
   ],
   "source": [
    "wave.trainable_variables"
   ]
  },
  {
   "cell_type": "code",
   "execution_count": 10,
   "id": "0b0325e1",
   "metadata": {},
   "outputs": [],
   "source": [
    "import hamiltonian"
   ]
  },
  {
   "cell_type": "code",
   "execution_count": 11,
   "id": "60e0ffae",
   "metadata": {},
   "outputs": [
    {
     "name": "stdout",
     "output_type": "stream",
     "text": [
      "Local energies: tf.Tensor([100], shape=(1,), dtype=int32)\n",
      "VMC Gradients: [<tf.Tensor: shape=(16, 64), dtype=float32, numpy=\n",
      "array([[ 0.93206596,  0.49009752,  2.306085  , ...,  1.6084576 ,\n",
      "         1.9453397 , -0.26243877],\n",
      "       [-5.473702  , -2.8271618 , -2.8131778 , ..., -5.020003  ,\n",
      "        -3.764181  , -5.2979774 ],\n",
      "       [-6.1465435 , -2.576196  , -3.2080474 , ..., -5.0712986 ,\n",
      "        -3.6260624 , -5.8780117 ],\n",
      "       ...,\n",
      "       [ 3.8453264 ,  3.820355  ,  4.3178434 , ...,  4.082816  ,\n",
      "         4.502462  ,  3.0688972 ],\n",
      "       [ 6.0933676 ,  5.734306  ,  6.577508  , ...,  6.110381  ,\n",
      "         6.5933824 ,  5.1042175 ],\n",
      "       [ 6.0933676 ,  5.734306  ,  6.577508  , ...,  6.110381  ,\n",
      "         6.5933824 ,  5.1042175 ]], dtype=float32)>, <tf.Tensor: shape=(16,), dtype=float32, numpy=\n",
      "array([ -9.631999 , -19.7456   , -20.2272   ,  -2.8896008, -13.0032   ,\n",
      "        -2.8896008,   0.       , -10.5952   , -33.711998 , -20.7088   ,\n",
      "         0.       ,  -5.7791996, -20.7088   ,  -3.8528004,   0.       ,\n",
      "         0.       ], dtype=float32)>, <tf.Tensor: shape=(64,), dtype=float32, numpy=\n",
      "array([6.093364 , 5.734305 , 6.5775075, 5.649329 , 5.434584 , 4.2354383,\n",
      "       5.194478 , 6.0063777, 6.169532 , 5.0108294, 6.411493 , 6.067857 ,\n",
      "       6.4509053, 6.3309727, 5.6441755, 5.6226387, 5.8732657, 4.3228483,\n",
      "       6.0494785, 5.920051 , 5.8775053, 5.886841 , 6.0816116, 5.8921986,\n",
      "       4.853123 , 5.234123 , 5.922554 , 4.62718  , 5.8252716, 6.1997123,\n",
      "       7.332686 , 6.068615 , 6.0052633, 4.665186 , 6.7283   , 5.3009214,\n",
      "       6.306435 , 6.992424 , 6.560005 , 6.8584056, 6.10569  , 6.166005 ,\n",
      "       5.422452 , 5.4142995, 4.810025 , 4.8055134, 6.170049 , 5.613002 ,\n",
      "       6.5677733, 6.0011563, 4.5612917, 5.8536963, 5.551869 , 5.588149 ,\n",
      "       6.266221 , 7.1413064, 5.606514 , 6.5431895, 5.208811 , 6.018727 ,\n",
      "       5.3502502, 6.110382 , 6.5933824, 5.1042166], dtype=float32)>]\n"
     ]
    }
   ],
   "source": [
    "l_lattice = 4\n",
    "n_spins = l_lattice * l_lattice\n",
    "density = 4\n",
    "n_hidden_spins = int(n_spins * density)\n",
    "\n",
    "wave = nnqs.RBM(n_visible=n_spins, n_hidden=n_hidden_spins)\n",
    "\n",
    "tfih = hamiltonian.TFIH(L=l_lattice, J=1.0, h=0.0, pbc=True)\n",
    "\n",
    "m_sampler = sampler.MRT2(n_sites=n_spins, batch_size=100, n_chains=10, n_sweeps=5)\n",
    "samples = m_sampler.sample(wave)\n",
    "local_energies = tfih.local_energy(samples, wave)\n",
    "print(\"Local energies:\", tf.shape(local_energies))\n",
    "with tf.GradientTape() as tape:\n",
    "    log_psi = wave.log_psi(samples)\n",
    "\n",
    "grad_log_psi = tape.jacobian(log_psi, wave.trainable_variables)\n",
    "#print(grad_log_psi)\n",
    "#print(\"Gradients of log_psi:\", [g.shape if g is not None else None for g in grad_log_psi])\n",
    "\n",
    "# VMC gradient formula\n",
    "mean_energy = tf.reduce_mean(local_energies)\n",
    "gradients = []\n",
    "\n",
    "for grad_i in grad_log_psi:\n",
    "    if grad_i is not None:\n",
    "        # Covariance term: <E_loc * grad_log_psi> - <E_loc> * <grad_log_psi>\n",
    "        expand_shape = [tf.shape(local_energies)[0]] + [1] * (len(grad_i.shape) - 1)\n",
    "        e_loc_expanded = tf.reshape(local_energies, expand_shape)\n",
    "        loc_grad = e_loc_expanded * grad_i\n",
    "        grad_energy = tf.reduce_mean(loc_grad * grad_i, axis=0)\n",
    "        grad_log_psi_mean = tf.reduce_mean(grad_i, axis=0)\n",
    "        \n",
    "        vmc_grad = 2.0 * (grad_energy - mean_energy * grad_log_psi_mean)\n",
    "        gradients.append(vmc_grad)\n",
    "    else:\n",
    "        gradients.append(None)\n",
    "# Convert gradients to a list of tensors\n",
    "gradients = [tf.convert_to_tensor(g) if g is not None else None for g in gradients]\n",
    "\n",
    "print(\"VMC Gradients:\", gradients)"
   ]
  },
  {
   "cell_type": "markdown",
   "id": "1e6c0c94",
   "metadata": {},
   "source": [
    "$$\\nabla_\\theta E = 2 \\text{Re}\\left[\\langle E_{\\text{loc}} \\nabla_\\theta \\log \\psi \\rangle - \\langle E_{\\text{loc}} \\rangle \\langle \\nabla_\\theta \\log \\psi \\rangle\\right]$$"
   ]
  },
  {
   "cell_type": "code",
   "execution_count": 12,
   "id": "b9b05f57",
   "metadata": {},
   "outputs": [
    {
     "name": "stdout",
     "output_type": "stream",
     "text": [
      "a: [-0.15573046  0.03690806  0.23080447 -0.19067125 -0.05475033 -0.07543457\n",
      "  0.02422273 -0.13896626  0.02317513 -0.04526901  0.17863843 -0.01124273\n",
      " -0.03497537 -0.17624156 -0.03939826 -0.02663275]\n",
      "b: [-2.22570468e-02 -8.76288041e-02 -3.00029423e-02  4.19744402e-02\n",
      " -6.63370192e-02  3.61432880e-02 -3.69122289e-02  3.50778028e-02\n",
      "  4.62569743e-02  2.26784982e-02  1.50829360e-01  5.17010465e-02\n",
      "  1.51102945e-01 -1.04131691e-01  8.12861845e-02  1.97524205e-02\n",
      "  5.64064691e-03 -4.98948945e-03  8.18362401e-04 -5.64782694e-02\n",
      " -8.63307330e-04 -5.94932139e-02 -1.03089087e-01  1.23947561e-01\n",
      "  1.55869117e-02 -2.22086590e-02 -2.03373894e-01  1.36835768e-03\n",
      "  2.08343100e-02  1.47717511e-02 -1.48827126e-02  3.20006697e-03\n",
      " -2.80348724e-03 -9.02484804e-02 -4.32839058e-02 -7.90492222e-02\n",
      " -1.35239912e-02  1.67230055e-01  5.90736754e-02 -2.20594816e-02\n",
      "  4.57554348e-02 -5.90905547e-02 -4.81045581e-02 -7.25819468e-02\n",
      " -1.08182780e-01 -1.41272560e-01  7.35921636e-02  8.11808035e-02\n",
      "  9.44317803e-02 -6.38416633e-02 -3.65573391e-02  4.20680270e-03\n",
      " -1.29849911e-01 -7.19463205e-05 -1.56052699e-02 -2.43615289e-03\n",
      "  1.04839824e-01 -4.04715799e-02 -5.00885136e-02 -9.66314673e-02\n",
      "  6.89010024e-02 -3.79207507e-02  4.26497729e-03  3.10757458e-02]\n",
      "W: [[ 0.06998356 -0.18355763  0.02235596 ...  0.16816828 -0.03494836\n",
      "   0.08001294]\n",
      " [ 0.08263458 -0.08651451 -0.06003506 ... -0.0268699   0.04023359\n",
      "   0.14467452]\n",
      " [-0.07555094  0.06826748  0.05687242 ...  0.06419637  0.03852039\n",
      "   0.10167789]\n",
      " ...\n",
      " [-0.01326589 -0.01467217 -0.22715631 ... -0.03783748 -0.04505127\n",
      "   0.06249241]\n",
      " [ 0.0131917   0.18277608  0.12714474 ...  0.17284304  0.06749258\n",
      "   0.04568422]\n",
      " [ 0.11110619 -0.02653821 -0.06103363 ...  0.16724731  0.0634537\n",
      "   0.07035878]]\n",
      "Updated wave function parameters:\n",
      "a: [-0.14573053  0.04690799  0.2408044  -0.18067133 -0.0447504  -0.06543464\n",
      "  0.02422273 -0.12896633  0.03317506 -0.03526908  0.17863843 -0.0012428\n",
      " -0.02497544 -0.16624163 -0.03939826 -0.02663275]\n",
      "b: [-0.03225698 -0.09762873 -0.04000287  0.03197451 -0.07633695  0.02614336\n",
      " -0.04691216  0.02507788  0.03625705  0.01267857  0.14082943  0.04170112\n",
      "  0.14110301 -0.11413161  0.07128626  0.00975249 -0.00435928 -0.01498942\n",
      " -0.00918156 -0.06647819 -0.01086324 -0.06949314 -0.11308901  0.11394763\n",
      "  0.00558699 -0.03220858 -0.21337382 -0.00863157  0.01083438  0.00477182\n",
      " -0.02488264 -0.00679986 -0.01280341 -0.1002484  -0.05328383 -0.08904915\n",
      " -0.02352392  0.15723012  0.04907375 -0.03205941  0.03575551 -0.06909049\n",
      " -0.05810449 -0.08258188 -0.1181827  -0.15127249  0.06359224  0.07118087\n",
      "  0.08443186 -0.07384159 -0.04655726 -0.00579312 -0.13984984 -0.01007187\n",
      " -0.0256052  -0.01243608  0.0948399  -0.05047151 -0.06008844 -0.1066314\n",
      "  0.05890108 -0.04792068 -0.00573495  0.02107582]\n",
      "W: [[ 0.05998366 -0.1935575   0.01235605 ...  0.15816836 -0.04494828\n",
      "   0.09001275]\n",
      " [ 0.0926345  -0.07651459 -0.05003514 ... -0.01686997  0.05023352\n",
      "   0.15467446]\n",
      " [-0.06555101  0.0782674   0.06687234 ...  0.07419629  0.04852031\n",
      "   0.11167781]\n",
      " ...\n",
      " [-0.02326581 -0.02467209 -0.23715624 ... -0.0478374  -0.0550512\n",
      "   0.05249249]\n",
      " [ 0.00319177  0.17277615  0.11714481 ...  0.16284311  0.05749265\n",
      "   0.03568429]\n",
      " [ 0.10110627 -0.03653814 -0.07103355 ...  0.15724738  0.05345377\n",
      "   0.06035885]]\n"
     ]
    }
   ],
   "source": [
    "print(\"a:\", wave.a.numpy())\n",
    "print(\"b:\", wave.b.numpy())\n",
    "print(\"W:\", wave.W.numpy())\n",
    "optimizer = tf.optimizers.Adam(learning_rate=0.01)\n",
    "\n",
    "# Perform a single optimization step\n",
    "samples = m_sampler.sample(wave)\n",
    "local_energies = tfih.local_energy(samples, wave)\n",
    "\n",
    "# Apply gradients\n",
    "optimizer.apply_gradients(zip(gradients, wave.trainable_variables))\n",
    "\n",
    "print(\"Updated wave function parameters:\")\n",
    "print(\"a:\", wave.a.numpy())\n",
    "print(\"b:\", wave.b.numpy())\n",
    "print(\"W:\", wave.W.numpy())\n",
    "\n"
   ]
  },
  {
   "cell_type": "code",
   "execution_count": 16,
   "id": "4ad1189a",
   "metadata": {},
   "outputs": [
    {
     "name": "stdout",
     "output_type": "stream",
     "text": [
      "Iteration 0: Energy = -6.080000, Variance = 11.673601\n",
      "Iteration 9: Energy = -8.000000, Variance = 0.000000\n"
     ]
    }
   ],
   "source": [
    "import optimizer\n",
    "\n",
    "l_lattice = 2\n",
    "n_spins = l_lattice * l_lattice\n",
    "density = 4\n",
    "n_hidden_spins = int(n_spins * density)\n",
    "\n",
    "wave = nnqs.RBM(n_visible=n_spins, n_hidden=n_hidden_spins)\n",
    "\n",
    "tfih = hamiltonian.TFIH(L=l_lattice, J=1.0, h=0.0, pbc=True)\n",
    "\n",
    "m_sampler = sampler.MRT2(n_sites=n_spins, batch_size=100, n_chains=10, n_sweeps=5)\n",
    "\n",
    "opt = optimizer.VMC(\n",
    "    wave_function=wave,\n",
    "    hamiltonian=tfih,\n",
    "    sampler=m_sampler,\n",
    "    learning_rate=0.01\n",
    ")\n",
    "\n",
    "energies, variances = opt.train(\n",
    "    n_iterations=10)"
   ]
  },
  {
   "cell_type": "code",
   "execution_count": 17,
   "id": "5322a939",
   "metadata": {},
   "outputs": [
    {
     "name": "stdout",
     "output_type": "stream",
     "text": [
      "<tf.Variable 'mrt2_state:0' shape=(10, 4) dtype=int32, numpy=\n",
      "array([[1, 1, 1, 1],\n",
      "       [1, 1, 1, 1],\n",
      "       [1, 1, 1, 1],\n",
      "       [1, 1, 1, 1],\n",
      "       [1, 1, 1, 1],\n",
      "       [1, 1, 1, 1],\n",
      "       [1, 1, 1, 1],\n",
      "       [1, 1, 1, 1],\n",
      "       [1, 1, 1, 1],\n",
      "       [1, 1, 1, 1]], dtype=int32)>\n",
      "a: [ 0.02643989 -0.01603901 -0.05894557  0.08284626]\n",
      "b: [-3.1313840e-01  1.5367303e-02 -8.0001131e-02  2.8864685e-02\n",
      "  9.4141796e-02 -1.2401396e-01 -1.5624380e-01 -1.1739098e-01\n",
      " -2.7436051e-01 -7.3228553e-02  6.0353339e-02 -2.6123500e-01\n",
      " -7.3414296e-05 -4.4970047e-01 -2.7358425e-01 -2.3527579e-01]\n",
      "W: [[-0.22808294 -0.15225148 -0.32848662 -0.21184477 -0.1136045  -0.2698256\n",
      "  -0.08693966  0.01528228 -0.08714174 -0.17079496 -0.20783201 -0.03303826\n",
      "  -0.15997252 -0.1477858  -0.16375345 -0.02589709]\n",
      " [-0.24239135 -0.13724422 -0.11497303 -0.13187295 -0.15085861 -0.16103064\n",
      "  -0.16858688 -0.1321153  -0.21450026 -0.19195937 -0.0679836  -0.11129532\n",
      "  -0.0623491  -0.00732991 -0.20457967 -0.00049532]\n",
      " [-0.07968016 -0.06422794 -0.1211886   0.00472117 -0.14142166 -0.07125308\n",
      "   0.11232094 -0.27036336 -0.05697358  0.04253392 -0.10489154  0.09670934\n",
      "  -0.16187988 -0.09022143 -0.17429796 -0.04754323]\n",
      " [-0.02356871  0.09163961 -0.01528148 -0.10353054 -0.15217122 -0.24188466\n",
      "  -0.14622465 -0.05823081 -0.13419521 -0.11997314 -0.0894319  -0.10172213\n",
      "  -0.17152514 -0.08691868 -0.1215829  -0.0757974 ]]\n"
     ]
    }
   ],
   "source": [
    "print(m_sampler.current_state)\n",
    "print(\"a:\", wave.a.numpy())\n",
    "print(\"b:\", wave.b.numpy())\n",
    "print(\"W:\", wave.W.numpy())"
   ]
  }
 ],
 "metadata": {
  "kernelspec": {
   "display_name": "tf-gpu-venv",
   "language": "python",
   "name": "python3"
  },
  "language_info": {
   "codemirror_mode": {
    "name": "ipython",
    "version": 3
   },
   "file_extension": ".py",
   "mimetype": "text/x-python",
   "name": "python",
   "nbconvert_exporter": "python",
   "pygments_lexer": "ipython3",
   "version": "3.12.11"
  }
 },
 "nbformat": 4,
 "nbformat_minor": 5
}
