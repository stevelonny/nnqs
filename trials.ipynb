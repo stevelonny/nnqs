{
 "cells": [
  {
   "cell_type": "code",
   "execution_count": 1,
   "id": "16203f8d",
   "metadata": {},
   "outputs": [
    {
     "name": "stderr",
     "output_type": "stream",
     "text": [
      "2025-07-09 10:51:13.088775: E external/local_xla/xla/stream_executor/cuda/cuda_fft.cc:467] Unable to register cuFFT factory: Attempting to register factory for plugin cuFFT when one has already been registered\n",
      "WARNING: All log messages before absl::InitializeLog() is called are written to STDERR\n",
      "E0000 00:00:1752051073.111094   13183 cuda_dnn.cc:8579] Unable to register cuDNN factory: Attempting to register factory for plugin cuDNN when one has already been registered\n",
      "E0000 00:00:1752051073.118255   13183 cuda_blas.cc:1407] Unable to register cuBLAS factory: Attempting to register factory for plugin cuBLAS when one has already been registered\n",
      "W0000 00:00:1752051073.135560   13183 computation_placer.cc:177] computation placer already registered. Please check linkage and avoid linking the same target more than once.\n",
      "W0000 00:00:1752051073.135579   13183 computation_placer.cc:177] computation placer already registered. Please check linkage and avoid linking the same target more than once.\n",
      "W0000 00:00:1752051073.135581   13183 computation_placer.cc:177] computation placer already registered. Please check linkage and avoid linking the same target more than once.\n",
      "W0000 00:00:1752051073.135582   13183 computation_placer.cc:177] computation placer already registered. Please check linkage and avoid linking the same target more than once.\n",
      "2025-07-09 10:51:13.141139: I tensorflow/core/platform/cpu_feature_guard.cc:210] This TensorFlow binary is optimized to use available CPU instructions in performance-critical operations.\n",
      "To enable the following instructions: AVX2 FMA, in other operations, rebuild TensorFlow with the appropriate compiler flags.\n"
     ]
    }
   ],
   "source": [
    "import tensorflow as tf\n",
    "import numpy as np\n",
    "import tensorflow_probability as tfp\n",
    "import nnqs\n",
    "import sampler"
   ]
  },
  {
   "cell_type": "code",
   "execution_count": 2,
   "id": "538d837d",
   "metadata": {},
   "outputs": [
    {
     "name": "stdout",
     "output_type": "stream",
     "text": [
      "<tf.Variable 'mrt2_state:0' shape=(1, 16) dtype=int32, numpy=array([[1, 1, 0, 0, 0, 0, 1, 1, 1, 1, 0, 0, 0, 1, 1, 1]], dtype=int32)>\n"
     ]
    },
    {
     "name": "stderr",
     "output_type": "stream",
     "text": [
      "I0000 00:00:1752051076.451549   13183 gpu_device.cc:2019] Created device /job:localhost/replica:0/task:0/device:GPU:0 with 2609 MB memory:  -> device: 0, name: NVIDIA GeForce GTX 1650 with Max-Q Design, pci bus id: 0000:01:00.0, compute capability: 7.5\n"
     ]
    }
   ],
   "source": [
    "n_spins = 16\n",
    "# density = hidden/visible\n",
    "density = 4\n",
    "n_hidden_spins = int(n_spins * density)\n",
    "\n",
    "wave = nnqs.RBM(n_visible=n_spins, n_hidden=n_hidden_spins)\n",
    "mrt2_sampler = sampler.MRT2(n_sites=n_spins, batch_size=10, n_chains=1, n_sweeps=10)\n",
    "\n",
    "print(mrt2_sampler.current_state)"
   ]
  },
  {
   "cell_type": "code",
   "execution_count": 3,
   "id": "ee71abd9",
   "metadata": {},
   "outputs": [
    {
     "name": "stdout",
     "output_type": "stream",
     "text": [
      "State parts: (<tf.Tensor: shape=(1, 16), dtype=int32, numpy=array([[1, 1, 0, 0, 0, 0, 1, 1, 1, 1, 0, 0, 0, 1, 1, 1]], dtype=int32)>,)\n",
      "Initial state: MetropolisHastingsKernelResults(\n",
      "  accepted_results=UncalibratedRandomWalkResults(\n",
      "      log_acceptance_correction=<tf.Tensor: shape=(1,), dtype=float32, numpy=array([0.], dtype=float32)>,\n",
      "      target_log_prob=<tf.Tensor: shape=(1,), dtype=float32, numpy=array([97.38903], dtype=float32)>,\n",
      "      seed=[]\n",
      "    ),\n",
      "  is_accepted=<tf.Tensor: shape=(1,), dtype=bool, numpy=array([ True])>,\n",
      "  log_accept_ratio=<tf.Tensor: shape=(1,), dtype=float32, numpy=array([0.], dtype=float32)>,\n",
      "  proposed_state=<tf.Variable 'mrt2_state:0' shape=(1, 16) dtype=int32, numpy=array([[1, 1, 0, 0, 0, 0, 1, 1, 1, 1, 0, 0, 0, 1, 1, 1]], dtype=int32)>,\n",
      "  proposed_results=UncalibratedRandomWalkResults(\n",
      "      log_acceptance_correction=<tf.Tensor: shape=(1,), dtype=float32, numpy=array([0.], dtype=float32)>,\n",
      "      target_log_prob=<tf.Tensor: shape=(1,), dtype=float32, numpy=array([97.38903], dtype=float32)>,\n",
      "      seed=<tf.Tensor: shape=(2,), dtype=int32, numpy=array([0, 0], dtype=int32)>\n",
      "    ),\n",
      "  extra=[],\n",
      "  seed=<tf.Tensor: shape=(2,), dtype=int32, numpy=array([0, 0], dtype=int32)>\n",
      ")\n",
      "State parts: (<tf.Tensor: shape=(1, 16), dtype=int32, numpy=array([[1, 1, 0, 0, 0, 0, 1, 1, 1, 1, 0, 0, 0, 1, 1, 1]], dtype=int32)>, <tf.Tensor: shape=(1, 16), dtype=int32, numpy=array([[1, 1, 0, 0, 0, 0, 1, 1, 1, 1, 0, 0, 0, 1, 1, 1]], dtype=int32)>)\n",
      "New state after one step: tf.Tensor([[1 1 0 0 0 0 1 1 1 1 0 0 0 1 1 1]], shape=(1, 16), dtype=int32)\n",
      "Kernel results: MetropolisHastingsKernelResults(\n",
      "  accepted_results=UncalibratedRandomWalkResults(\n",
      "      log_acceptance_correction=<tf.Tensor: shape=(1,), dtype=float32, numpy=array([0.], dtype=float32)>,\n",
      "      target_log_prob=<tf.Tensor: shape=(1,), dtype=float32, numpy=array([97.38903], dtype=float32)>,\n",
      "      seed=[]\n",
      "    ),\n",
      "  is_accepted=<tf.Tensor: shape=(1,), dtype=bool, numpy=array([ True])>,\n",
      "  log_accept_ratio=<tf.Tensor: shape=(1,), dtype=float32, numpy=array([0.], dtype=float32)>,\n",
      "  proposed_state=<tf.Tensor: shape=(1, 16), dtype=int32, numpy=array([[1, 1, 0, 0, 0, 0, 1, 1, 1, 1, 0, 0, 0, 1, 1, 1]], dtype=int32)>,\n",
      "  proposed_results=UncalibratedRandomWalkResults(\n",
      "      log_acceptance_correction=<tf.Tensor: shape=(1,), dtype=float32, numpy=array([0.], dtype=float32)>,\n",
      "      target_log_prob=<tf.Tensor: shape=(1,), dtype=float32, numpy=array([97.38903], dtype=float32)>,\n",
      "      seed=<tf.Tensor: shape=(2,), dtype=int32, numpy=array([-518161081, -960723840], dtype=int32)>\n",
      "    ),\n",
      "  extra=[],\n",
      "  seed=<tf.Tensor: shape=(2,), dtype=int32, numpy=array([ 838460424, 1985393996], dtype=int32)>\n",
      ")\n"
     ]
    }
   ],
   "source": [
    "def target_log_prob(*state_parts):\n",
    "    print(\"State parts:\", state_parts)\n",
    "    if len(state_parts) == 1:\n",
    "        state = state_parts[0]\n",
    "    else:\n",
    "        state = state_parts[0]\n",
    "    \n",
    "    return wave.log_prob(state)\n",
    "\n",
    "\n",
    "metro_kernel = tfp.mcmc.RandomWalkMetropolis(\n",
    "    target_log_prob_fn=target_log_prob,\n",
    "    new_state_fn=mrt2_sampler._single_site_flip\n",
    ")\n",
    "\n",
    "init_state = metro_kernel.bootstrap_results(mrt2_sampler.current_state)\n",
    "\n",
    "print(\"Initial state:\", init_state)\n",
    "\n",
    "result = metro_kernel.one_step(\n",
    "    current_state=mrt2_sampler.current_state,\n",
    "    previous_kernel_results=init_state,\n",
    "    seed=42\n",
    ")\n",
    "\n",
    "print(\"New state after one step:\", result[0])\n",
    "print(\"Kernel results:\", result[1])\n"
   ]
  },
  {
   "cell_type": "code",
   "execution_count": 21,
   "id": "a4e04dac",
   "metadata": {},
   "outputs": [
    {
     "name": "stdout",
     "output_type": "stream",
     "text": [
      "Generated samples:\n",
      "(<tf.Tensor: shape=(10, 16), dtype=float32, numpy=\n",
      "array([[1., 1., 0., 1., 0., 1., 1., 1., 1., 1., 1., 1., 1., 1., 1., 1.],\n",
      "       [1., 1., 0., 1., 0., 1., 1., 1., 1., 1., 1., 1., 1., 1., 1., 1.],\n",
      "       [1., 1., 0., 1., 0., 1., 1., 1., 1., 1., 1., 1., 1., 1., 1., 1.],\n",
      "       [1., 1., 0., 1., 0., 1., 1., 1., 1., 1., 1., 1., 1., 1., 1., 1.],\n",
      "       [1., 1., 0., 1., 0., 1., 1., 1., 1., 1., 1., 1., 1., 1., 1., 1.],\n",
      "       [1., 1., 0., 1., 0., 1., 1., 1., 1., 1., 1., 1., 1., 1., 1., 1.],\n",
      "       [1., 1., 0., 1., 0., 1., 1., 1., 1., 1., 1., 1., 1., 1., 1., 1.],\n",
      "       [1., 1., 0., 1., 0., 1., 1., 1., 1., 1., 1., 1., 1., 1., 1., 1.],\n",
      "       [1., 1., 0., 1., 0., 1., 1., 1., 1., 1., 1., 1., 1., 1., 1., 1.],\n",
      "       [1., 1., 0., 1., 0., 1., 1., 1., 1., 1., 1., 1., 1., 1., 1., 1.]],\n",
      "      dtype=float32)>, <tf.Tensor: shape=(), dtype=float32, numpy=0.699999988079071>, <tf.Tensor: shape=(10, 1), dtype=bool, numpy=\n",
      "array([[ True],\n",
      "       [False],\n",
      "       [False],\n",
      "       [ True],\n",
      "       [False],\n",
      "       [ True],\n",
      "       [ True],\n",
      "       [ True],\n",
      "       [ True],\n",
      "       [ True]])>)\n"
     ]
    }
   ],
   "source": [
    "samples = mrt2_sampler.sample_with_diagnostics(wave)\n",
    "\n",
    "print(\"Generated samples:\")\n",
    "print(samples)\n"
   ]
  },
  {
   "cell_type": "code",
   "execution_count": 11,
   "id": "4d8d5318",
   "metadata": {},
   "outputs": [
    {
     "name": "stdout",
     "output_type": "stream",
     "text": [
      "<tf.Variable 'mrt2_state:0' shape=(1, 16) dtype=int32, numpy=array([[1, 1, 0, 1, 0, 1, 1, 1, 1, 1, 1, 1, 1, 1, 1, 1]], dtype=int32)>\n",
      "<tf.Variable 'visible_bias:0' shape=(16,) dtype=float32, numpy=\n",
      "array([ 0.05182908, -0.03531402, -0.12881862, -0.11880983, -0.03450819,\n",
      "        0.11554106, -0.05776259,  0.07570194,  0.04771845,  0.1346591 ,\n",
      "       -0.07797218, -0.14376481,  0.08132702,  0.03087344,  0.00092941,\n",
      "        0.07636075], dtype=float32)>\n",
      "<tf.Variable 'hidden_bias:0' shape=(64,) dtype=float32, numpy=\n",
      "array([ 0.0247687 ,  0.0779311 ,  0.01699164, -0.0206477 , -0.05960264,\n",
      "       -0.0558875 ,  0.00685559,  0.04007961, -0.03883881, -0.14146566,\n",
      "       -0.17871659, -0.30964136, -0.0067846 , -0.08259855, -0.18235411,\n",
      "       -0.03261776,  0.2097867 ,  0.1591655 , -0.11178732,  0.04261604,\n",
      "       -0.12745582, -0.0184547 , -0.02203484, -0.02758373,  0.06034005,\n",
      "        0.0179116 ,  0.00816443, -0.02608932, -0.0705049 ,  0.03059687,\n",
      "        0.19273375,  0.03730853, -0.18609823,  0.02930673, -0.09804606,\n",
      "        0.15064442, -0.06988869, -0.0223203 ,  0.20391765, -0.13747323,\n",
      "        0.05658028, -0.04086013,  0.00392471,  0.12073823,  0.17803295,\n",
      "       -0.13405994,  0.0327836 , -0.00072927,  0.02164022,  0.10993091,\n",
      "        0.05200699,  0.04383093, -0.2259353 ,  0.1020777 , -0.01561241,\n",
      "        0.09319246,  0.14010078, -0.18539403, -0.08921383, -0.10791963,\n",
      "        0.03396523, -0.10637864,  0.0795337 ,  0.00744217], dtype=float32)>\n",
      "<tf.Variable 'weights:0' shape=(16, 64) dtype=float32, numpy=\n",
      "array([[-0.01386171, -0.02855109,  0.00959604, ..., -0.00216204,\n",
      "        -0.1536844 ,  0.03325959],\n",
      "       [ 0.16584323,  0.02361164, -0.05191204, ..., -0.10676225,\n",
      "         0.07769447,  0.15065739],\n",
      "       [ 0.00298765, -0.25463626, -0.06537933, ...,  0.16364038,\n",
      "        -0.19493271, -0.05487038],\n",
      "       ...,\n",
      "       [ 0.06232354,  0.16009459, -0.01569843, ..., -0.07998134,\n",
      "        -0.0099735 , -0.16249375],\n",
      "       [ 0.05809931,  0.14506948,  0.09307854, ...,  0.03130576,\n",
      "         0.14745234,  0.0086506 ],\n",
      "       [ 0.00918358,  0.01378061,  0.00045659, ..., -0.09987465,\n",
      "         0.01228954, -0.03450047]], dtype=float32)>\n"
     ]
    },
    {
     "data": {
      "text/plain": [
       "<tf.Tensor: shape=(1,), dtype=float32, numpy=array([46.73649], dtype=float32)>"
      ]
     },
     "execution_count": 11,
     "metadata": {},
     "output_type": "execute_result"
    }
   ],
   "source": [
    "print(mrt2_sampler.current_state)\n",
    "print(wave.a)\n",
    "print(wave.b)\n",
    "print(wave.W)\n",
    "\n",
    "wave.log_psi(mrt2_sampler.current_state)"
   ]
  },
  {
   "cell_type": "code",
   "execution_count": 6,
   "id": "02725eaf",
   "metadata": {},
   "outputs": [
    {
     "name": "stdout",
     "output_type": "stream",
     "text": [
      "Log prob (all zeros): tf.Tensor([10.195515], shape=(1,), dtype=float32)\n",
      "Log prob (all ones): tf.Tensor([12.828673], shape=(1,), dtype=float32)\n",
      "Log prob (random): tf.Tensor([11.743578], shape=(1,), dtype=float32)\n",
      "Prob (all zeros): tf.Tensor([26782.787], shape=(1,), dtype=float32)\n",
      "Prob (all ones): tf.Tensor([372753.78], shape=(1,), dtype=float32)\n",
      "Prob (random): tf.Tensor([125942.15], shape=(1,), dtype=float32)\n"
     ]
    }
   ],
   "source": [
    "wave_test = nnqs.RBM(n_visible=8, n_hidden=8)\n",
    "\n",
    "states0 = tf.zeros((1, 8), dtype=tf.float32)  # All zeros\n",
    "states1 = tf.ones((1, 8), dtype=tf.float32)   # All ones\n",
    "states_r = tf.random.uniform((1, 8), maxval=2, dtype=tf.int32)\n",
    "states_r = tf.cast(states_r, tf.float32)\n",
    "\n",
    "print(\"Log prob (all zeros):\", wave_test.log_prob(states0))\n",
    "print(\"Log prob (all ones):\", wave_test.log_prob(states1))  \n",
    "print(\"Log prob (random):\", wave_test.log_prob(states_r))\n",
    "print(\"Prob (all zeros):\", tf.exp(wave_test.log_prob(states0)))\n",
    "print(\"Prob (all ones):\", tf.exp(wave_test.log_prob(states1)))\n",
    "print(\"Prob (random):\", tf.exp(wave_test.log_prob(states_r)))"
   ]
  },
  {
   "cell_type": "code",
   "execution_count": 7,
   "id": "c1a20d0f",
   "metadata": {},
   "outputs": [
    {
     "name": "stdout",
     "output_type": "stream",
     "text": [
      "Test states: [[1 0 0 1 1 0 1 0]\n",
      " [0 0 1 0 0 1 1 0]\n",
      " [1 1 0 1 1 0 0 0]\n",
      " [1 1 0 0 1 0 0 0]\n",
      " [1 1 0 1 0 1 1 1]]\n",
      "Test states (as float): [[1. 0. 0. 1. 1. 0. 1. 0.]\n",
      " [0. 0. 1. 0. 0. 1. 1. 0.]\n",
      " [1. 1. 0. 1. 1. 0. 0. 0.]\n",
      " [1. 1. 0. 0. 1. 0. 0. 0.]\n",
      " [1. 1. 0. 1. 0. 1. 1. 1.]]\n",
      "Sum of visible biases: [-0.01127508 -0.15618768  0.08018745 -0.01374663 -0.14962626]\n",
      "Sum of hidden biases: [5.9655647 5.7794924 5.9144077 5.805585  5.9789953]\n",
      "Log prob (manual): [5.9542894 5.623305  5.994595  5.791838  5.829369 ]\n",
      "Prob: [385.40295 276.80267 401.25415 327.6147  340.14398]\n",
      "Log prob: tf.Tensor([11.95346   9.993798 12.182076 12.037144 11.934568], shape=(5,), dtype=float32)\n",
      "Prob: tf.Tensor([155353.7    21890.285 195257.89  168913.78  152446.4  ], shape=(5,), dtype=float32)\n"
     ]
    }
   ],
   "source": [
    "test_states = tf.random.uniform((5, 8), maxval=2, dtype=tf.int32)\n",
    "print(\"Test states:\", test_states.numpy())\n",
    "test_states = tf.cast(test_states, tf.float32)\n",
    "print(\"Test states (as float):\", test_states.numpy())\n",
    "log_probs = wave_test.log_prob(test_states)\n",
    "sum_visible = tf.reduce_sum(wave_test.a * test_states, axis=1)\n",
    "sum_hidden = tf.reduce_sum(tf.math.log(2.0*(tf.math.cosh(wave_test.b + tf.matmul(test_states, wave_test.W)))), axis=1)\n",
    "print(\"Sum of visible biases:\", sum_visible.numpy())\n",
    "print(\"Sum of hidden biases:\", sum_hidden.numpy())\n",
    "log_prob_test = sum_visible + sum_hidden\n",
    "print(\"Log prob (manual):\", log_prob_test.numpy())\n",
    "print(\"Prob:\", tf.exp(log_prob_test).numpy())\n",
    "\n",
    "print(\"Log prob:\", log_probs)\n",
    "print(\"Prob:\", tf.exp(log_probs))"
   ]
  },
  {
   "cell_type": "code",
   "execution_count": 8,
   "id": "dca05660",
   "metadata": {},
   "outputs": [
    {
     "name": "stderr",
     "output_type": "stream",
     "text": [
      "2025-07-09 10:51:20.224346: I tensorflow/core/framework/local_rendezvous.cc:407] Local rendezvous is aborting with status: INVALID_ARGUMENT: Incompatible shapes: [1,16] vs. [1,8]\n"
     ]
    },
    {
     "ename": "InvalidArgumentError",
     "evalue": "{{function_node __wrapped__Mul_device_/job:localhost/replica:0/task:0/device:GPU:0}} Incompatible shapes: [1,16] vs. [1,8] [Op:Mul] name: ",
     "output_type": "error",
     "traceback": [
      "\u001b[31m---------------------------------------------------------------------------\u001b[39m",
      "\u001b[31mInvalidArgumentError\u001b[39m                      Traceback (most recent call last)",
      "\u001b[36mCell\u001b[39m\u001b[36m \u001b[39m\u001b[32mIn[8]\u001b[39m\u001b[32m, line 2\u001b[39m\n\u001b[32m      1\u001b[39m test_state = tf.constant([[\u001b[32m1\u001b[39m, \u001b[32m0\u001b[39m, \u001b[32m1\u001b[39m, \u001b[32m0\u001b[39m, \u001b[32m1\u001b[39m, \u001b[32m0\u001b[39m, \u001b[32m1\u001b[39m, \u001b[32m0\u001b[39m]], dtype=tf.int32)\n\u001b[32m----> \u001b[39m\u001b[32m2\u001b[39m flipped = \u001b[43mmrt2_sampler\u001b[49m\u001b[43m.\u001b[49m\u001b[43m_single_site_flip\u001b[49m\u001b[43m(\u001b[49m\u001b[43mtest_state\u001b[49m\u001b[43m)\u001b[49m\n\u001b[32m      3\u001b[39m \u001b[38;5;28mprint\u001b[39m(\u001b[33m\"\u001b[39m\u001b[33mOriginal:\u001b[39m\u001b[33m\"\u001b[39m, test_state)\n\u001b[32m      4\u001b[39m \u001b[38;5;28mprint\u001b[39m(\u001b[33m\"\u001b[39m\u001b[33mLog prob (Original)\u001b[39m\u001b[33m\"\u001b[39m, wave_test.log_prob(test_state))\n",
      "\u001b[36mFile \u001b[39m\u001b[32m~/projects/nnqs/sampler.py:49\u001b[39m, in \u001b[36mMRT2._single_site_flip\u001b[39m\u001b[34m(self, state, seed)\u001b[39m\n\u001b[32m     45\u001b[39m sites = tf.random.uniform((batch_size,), maxval=n_sites, dtype=tf.int32)\n\u001b[32m     47\u001b[39m mask = tf.one_hot(sites, n_sites, dtype=tf.int32)\n\u001b[32m---> \u001b[39m\u001b[32m49\u001b[39m flipped_state = state + \u001b[43mmask\u001b[49m\u001b[43m \u001b[49m\u001b[43m*\u001b[49m\u001b[43m \u001b[49m\u001b[43m(\u001b[49m\u001b[43mtf\u001b[49m\u001b[43m.\u001b[49m\u001b[43mones\u001b[49m\u001b[43m(\u001b[49m\u001b[43mtf\u001b[49m\u001b[43m.\u001b[49m\u001b[43mshape\u001b[49m\u001b[43m(\u001b[49m\u001b[43mstate\u001b[49m\u001b[43m)\u001b[49m\u001b[43m,\u001b[49m\u001b[43m \u001b[49m\u001b[43mdtype\u001b[49m\u001b[43m=\u001b[49m\u001b[43mtf\u001b[49m\u001b[43m.\u001b[49m\u001b[43mint32\u001b[49m\u001b[43m)\u001b[49m\u001b[43m \u001b[49m\u001b[43m-\u001b[49m\u001b[43m \u001b[49m\u001b[32;43m2\u001b[39;49m\u001b[43m \u001b[49m\u001b[43m*\u001b[49m\u001b[43m \u001b[49m\u001b[43mstate\u001b[49m\u001b[43m)\u001b[49m\n\u001b[32m     50\u001b[39m \u001b[38;5;28;01mreturn\u001b[39;00m flipped_state\n",
      "\u001b[36mFile \u001b[39m\u001b[32m~/projects/nnqs/tf-gpu-venv/lib64/python3.12/site-packages/tensorflow/python/util/traceback_utils.py:153\u001b[39m, in \u001b[36mfilter_traceback.<locals>.error_handler\u001b[39m\u001b[34m(*args, **kwargs)\u001b[39m\n\u001b[32m    151\u001b[39m \u001b[38;5;28;01mexcept\u001b[39;00m \u001b[38;5;167;01mException\u001b[39;00m \u001b[38;5;28;01mas\u001b[39;00m e:\n\u001b[32m    152\u001b[39m   filtered_tb = _process_traceback_frames(e.__traceback__)\n\u001b[32m--> \u001b[39m\u001b[32m153\u001b[39m   \u001b[38;5;28;01mraise\u001b[39;00m e.with_traceback(filtered_tb) \u001b[38;5;28;01mfrom\u001b[39;00m\u001b[38;5;250m \u001b[39m\u001b[38;5;28;01mNone\u001b[39;00m\n\u001b[32m    154\u001b[39m \u001b[38;5;28;01mfinally\u001b[39;00m:\n\u001b[32m    155\u001b[39m   \u001b[38;5;28;01mdel\u001b[39;00m filtered_tb\n",
      "\u001b[36mFile \u001b[39m\u001b[32m~/projects/nnqs/tf-gpu-venv/lib64/python3.12/site-packages/tensorflow/python/framework/ops.py:6006\u001b[39m, in \u001b[36mraise_from_not_ok_status\u001b[39m\u001b[34m(e, name)\u001b[39m\n\u001b[32m   6004\u001b[39m \u001b[38;5;28;01mdef\u001b[39;00m\u001b[38;5;250m \u001b[39m\u001b[34mraise_from_not_ok_status\u001b[39m(e, name) -> NoReturn:\n\u001b[32m   6005\u001b[39m   e.message += (\u001b[33m\"\u001b[39m\u001b[33m name: \u001b[39m\u001b[33m\"\u001b[39m + \u001b[38;5;28mstr\u001b[39m(name \u001b[38;5;28;01mif\u001b[39;00m name \u001b[38;5;129;01mis\u001b[39;00m \u001b[38;5;129;01mnot\u001b[39;00m \u001b[38;5;28;01mNone\u001b[39;00m \u001b[38;5;28;01melse\u001b[39;00m \u001b[33m\"\u001b[39m\u001b[33m\"\u001b[39m))\n\u001b[32m-> \u001b[39m\u001b[32m6006\u001b[39m   \u001b[38;5;28;01mraise\u001b[39;00m core._status_to_exception(e) \u001b[38;5;28;01mfrom\u001b[39;00m\u001b[38;5;250m \u001b[39m\u001b[38;5;28;01mNone\u001b[39;00m\n",
      "\u001b[31mInvalidArgumentError\u001b[39m: {{function_node __wrapped__Mul_device_/job:localhost/replica:0/task:0/device:GPU:0}} Incompatible shapes: [1,16] vs. [1,8] [Op:Mul] name: "
     ]
    }
   ],
   "source": [
    "test_state = tf.constant([[1, 0, 1, 0, 1, 0, 1, 0]], dtype=tf.int32)\n",
    "flipped = mrt2_sampler._single_site_flip(test_state)\n",
    "print(\"Original:\", test_state)\n",
    "print(\"Log prob (Original)\", wave_test.log_prob(test_state))\n",
    "print(\"Flipped: \", flipped)\n",
    "print(\"Log prob (Flipped)\", wave_test.log_prob(flipped))\n",
    "print(\"Ratio of log:\", wave_test.log_prob(flipped) - wave_test.log_prob(test_state))"
   ]
  }
 ],
 "metadata": {
  "kernelspec": {
   "display_name": "tf-gpu-venv",
   "language": "python",
   "name": "python3"
  },
  "language_info": {
   "codemirror_mode": {
    "name": "ipython",
    "version": 3
   },
   "file_extension": ".py",
   "mimetype": "text/x-python",
   "name": "python",
   "nbconvert_exporter": "python",
   "pygments_lexer": "ipython3",
   "version": "3.12.11"
  }
 },
 "nbformat": 4,
 "nbformat_minor": 5
}
